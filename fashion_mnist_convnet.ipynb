{
  "nbformat": 4,
  "nbformat_minor": 0,
  "metadata": {
    "colab": {
      "name": "Copy of mnist_convnet",
      "provenance": [],
      "collapsed_sections": [],
      "toc_visible": true,
      "include_colab_link": true
    },
    "kernelspec": {
      "display_name": "Python 3",
      "language": "python",
      "name": "python3"
    },
    "language_info": {
      "codemirror_mode": {
        "name": "ipython",
        "version": 3
      },
      "file_extension": ".py",
      "mimetype": "text/x-python",
      "name": "python",
      "nbconvert_exporter": "python",
      "pygments_lexer": "ipython3",
      "version": "3.7.0"
    }
  },
  "cells": [
    {
      "cell_type": "markdown",
      "metadata": {
        "id": "view-in-github",
        "colab_type": "text"
      },
      "source": [
        "<a href=\"https://colab.research.google.com/github/RachelRamirez/FashionMNIST_DataAugmentation/blob/main/fashion_mnist_convnet.ipynb\" target=\"_parent\"><img src=\"https://colab.research.google.com/assets/colab-badge.svg\" alt=\"Open In Colab\"/></a>"
      ]
    },
    {
      "cell_type": "markdown",
      "metadata": {
        "id": "3tLeuxPfOUwh"
      },
      "source": [
        "# \"Simple MNIST convnet\" Architecture with Extremely Limited Data used to Train CNN\n",
        "\n",
        "**Original Author as applied to MNIST (Numbers):** [fchollet](https://twitter.com/fchollet)<br>\n",
        "**Date created:** 2015/06/19<br>\n",
        "**Last modified:** 2020/04/21<br>\n",
        "**Applied to Fashion MNIST** 2021/08/25\n",
        "\n",
        "**Description:** A simple convnet that achieves ~90% test accuracy on MNIST, is applied to the Fashion MNIST.\n",
        "\n",
        "Then data is limited to 1000 training samples to view the effects of data augmentation on increasing model accuracy.\n",
        "\n",
        "More features are added for residual/error analysis such as confusion matrix and data augmentation."
      ]
    },
    {
      "cell_type": "markdown",
      "metadata": {
        "id": "zpKcttwnrTnT"
      },
      "source": [
        "# Experiment"
      ]
    },
    {
      "cell_type": "markdown",
      "metadata": {
        "id": "JJfFyadErbBf"
      },
      "source": [
        "The first part of this experiment is looking at the space for TrainingSize, ValidationSize, BatchSize, and EpochSize.  These all likely effect one another (40way interactions) so a screening design is used to look for maineffects.\n",
        "\n",
        "A: BatchSize\n",
        "\n",
        "B: Epochs\n",
        "\n",
        "C: Training Size (Count)\n",
        "\n",
        "D: Validation (as percentage of Training Size)"
      ]
    },
    {
      "cell_type": "code",
      "metadata": {
        "colab": {
          "base_uri": "https://localhost:8080/"
        },
        "id": "dqEfqqnXr9Ji",
        "outputId": "9ba0186d-402e-4ecb-8c64-79eb86566372"
      },
      "source": [
        "## Experiment 1 Variables\n",
        "\n",
        "var_BatchSize =  10,  100\n",
        "var_Epochs =     15,  50\n",
        "var_TrainSize = 100,  1000\n",
        "var_ValPercent = 0.2, 0.5\n",
        "\n",
        "\n",
        " "
      ],
      "execution_count": null,
      "outputs": [
        {
          "output_type": "stream",
          "text": [
            "This is run 1 :  10    15 100 0.2\n",
            "Results\n",
            "This is run 2 :  10    15 100 0.5\n",
            "Results\n",
            "This is run 3 :  10    15 1000 0.2\n",
            "Results\n",
            "This is run 4 :  10    15 1000 0.5\n",
            "Results\n",
            "This is run 5 :  10    50 100 0.2\n",
            "Results\n",
            "This is run 6 :  10    50 100 0.5\n",
            "Results\n",
            "This is run 7 :  10    50 1000 0.2\n",
            "Results\n",
            "This is run 8 :  10    50 1000 0.5\n",
            "Results\n",
            "This is run 9 :  100    15 100 0.2\n",
            "Results\n",
            "This is run 10 :  100    15 100 0.5\n",
            "Results\n",
            "This is run 11 :  100    15 1000 0.2\n",
            "Results\n",
            "This is run 12 :  100    15 1000 0.5\n",
            "Results\n",
            "This is run 13 :  100    50 100 0.2\n",
            "Results\n",
            "This is run 14 :  100    50 100 0.5\n",
            "Results\n",
            "This is run 15 :  100    50 1000 0.2\n",
            "Results\n",
            "This is run 16 :  100    50 1000 0.5\n",
            "Results\n"
          ],
          "name": "stdout"
        }
      ]
    },
    {
      "cell_type": "markdown",
      "metadata": {
        "id": "vqMnsJfoOUwm"
      },
      "source": [
        "## Setup"
      ]
    },
    {
      "cell_type": "code",
      "metadata": {
        "id": "SGvYofsKOUwo"
      },
      "source": [
        "import numpy as np\n",
        "from tensorflow import keras\n",
        "from tensorflow.keras import layers\n",
        "import tensorflow as tf\n",
        "import matplotlib.pyplot as plt\n",
        "import seaborn as sn"
      ],
      "execution_count": 1,
      "outputs": []
    },
    {
      "cell_type": "markdown",
      "metadata": {
        "id": "R5UJ4XGxOUwp"
      },
      "source": [
        "## Prepare the data"
      ]
    },
    {
      "cell_type": "code",
      "metadata": {
        "id": "nW6G-5CNOUwq",
        "colab": {
          "base_uri": "https://localhost:8080/"
        },
        "outputId": "9b71be2c-4711-4e16-d227-890ea886fd82"
      },
      "source": [
        "# Model / data parameters\n",
        "num_classes = 10\n",
        "input_shape = (28, 28, 1)\n",
        "\n",
        "# the data, split between train and test sets\n",
        "(x_train, y_train), (x_test, y_test) = keras.datasets.fashion_mnist.load_data()\n",
        "\n",
        "x_train = x_train[0:100]\n",
        "y_train = y_train[0:100]\n",
        "\n",
        "# Scale images to the [0, 1] range\n",
        "x_train = x_train.astype(\"float32\") / 255\n",
        "x_test = x_test.astype(\"float32\") / 255\n",
        "# Make sure images have shape (28, 28, 1)\n",
        "x_train = np.expand_dims(x_train, -1)\n",
        "x_test = np.expand_dims(x_test, -1)\n",
        "print(\"x_train shape:\", x_train.shape)\n",
        "print(x_train.shape[0], \"train samples\")\n",
        "print(x_test.shape[0], \"test samples\")\n",
        "\n",
        "\n",
        "# convert class vectors to binary class matrices\n",
        "y_train = keras.utils.to_categorical(y_train, num_classes)\n",
        "y_test = keras.utils.to_categorical(y_test, num_classes)"
      ],
      "execution_count": 2,
      "outputs": [
        {
          "output_type": "stream",
          "text": [
            "x_train shape: (100, 28, 28, 1)\n",
            "100 train samples\n",
            "10000 test samples\n"
          ],
          "name": "stdout"
        }
      ]
    },
    {
      "cell_type": "markdown",
      "metadata": {
        "id": "j3J-NWLSOUwr"
      },
      "source": [
        "## Build the model"
      ]
    },
    {
      "cell_type": "code",
      "metadata": {
        "id": "7MEHlGkLOUwt",
        "colab": {
          "base_uri": "https://localhost:8080/"
        },
        "outputId": "bde51531-e420-4fdd-a0e9-2141012b083c"
      },
      "source": [
        "model = keras.Sequential(\n",
        "    [\n",
        "        keras.Input(shape=input_shape),\n",
        "        layers.Conv2D(32, kernel_size=(3, 3), activation=\"relu\"),\n",
        "        layers.MaxPooling2D(pool_size=(2, 2)),\n",
        "        layers.Conv2D(64, kernel_size=(3, 3), activation=\"relu\"),\n",
        "        layers.MaxPooling2D(pool_size=(2, 2)),\n",
        "        layers.Flatten(),\n",
        "        layers.Dropout(0.5),\n",
        "        layers.Dense(num_classes, activation=\"softmax\"),\n",
        "    ]\n",
        ")\n",
        "\n",
        "model.summary()"
      ],
      "execution_count": 3,
      "outputs": [
        {
          "output_type": "stream",
          "text": [
            "Model: \"sequential\"\n",
            "_________________________________________________________________\n",
            "Layer (type)                 Output Shape              Param #   \n",
            "=================================================================\n",
            "conv2d (Conv2D)              (None, 26, 26, 32)        320       \n",
            "_________________________________________________________________\n",
            "max_pooling2d (MaxPooling2D) (None, 13, 13, 32)        0         \n",
            "_________________________________________________________________\n",
            "conv2d_1 (Conv2D)            (None, 11, 11, 64)        18496     \n",
            "_________________________________________________________________\n",
            "max_pooling2d_1 (MaxPooling2 (None, 5, 5, 64)          0         \n",
            "_________________________________________________________________\n",
            "flatten (Flatten)            (None, 1600)              0         \n",
            "_________________________________________________________________\n",
            "dropout (Dropout)            (None, 1600)              0         \n",
            "_________________________________________________________________\n",
            "dense (Dense)                (None, 10)                16010     \n",
            "=================================================================\n",
            "Total params: 34,826\n",
            "Trainable params: 34,826\n",
            "Non-trainable params: 0\n",
            "_________________________________________________________________\n"
          ],
          "name": "stdout"
        }
      ]
    },
    {
      "cell_type": "markdown",
      "metadata": {
        "id": "9mLvi5vnOUww"
      },
      "source": [
        "## Train the model"
      ]
    },
    {
      "cell_type": "markdown",
      "metadata": {
        "id": "7UbYwOVJv7GQ"
      },
      "source": [
        "## Train the model"
      ]
    },
    {
      "cell_type": "code",
      "metadata": {
        "colab": {
          "base_uri": "https://localhost:8080/",
          "height": 241
        },
        "id": "_gfBEyf9v7GS",
        "outputId": "bb278cdb-43df-44e7-8287-ad350a16027a"
      },
      "source": [
        "counter = 1\n",
        "for i in var_BatchSize:\n",
        "  for j in var_Epochs:\n",
        "     for k in var_TrainSize:\n",
        "       for l in var_ValPercent:\n",
        "         print(\"This is run\", counter, \": \", i, \"  \", j, k, l)\n",
        "         counter=counter+1\n",
        "         batch_size = var_BatchSize\n",
        "         epochs = var_Epochs\n",
        "\n",
        "         model.compile(loss=\"categorical_crossentropy\", optimizer=\"adam\", metrics=[\"accuracy\"])\n",
        "\n",
        "         model.fit(x_train, y_train, batch_size=batch_size, epochs=epochs, validation_split=0.7, verbose=0)"
      ],
      "execution_count": 40,
      "outputs": [
        {
          "output_type": "error",
          "ename": "NameError",
          "evalue": "ignored",
          "traceback": [
            "\u001b[0;31m---------------------------------------------------------------------------\u001b[0m",
            "\u001b[0;31mNameError\u001b[0m                                 Traceback (most recent call last)",
            "\u001b[0;32m<ipython-input-40-eae985c3d98a>\u001b[0m in \u001b[0;36m<module>\u001b[0;34m()\u001b[0m\n\u001b[1;32m      1\u001b[0m \u001b[0mcounter\u001b[0m \u001b[0;34m=\u001b[0m \u001b[0;36m1\u001b[0m\u001b[0;34m\u001b[0m\u001b[0;34m\u001b[0m\u001b[0m\n\u001b[0;32m----> 2\u001b[0;31m \u001b[0;32mfor\u001b[0m \u001b[0mi\u001b[0m \u001b[0;32min\u001b[0m \u001b[0mvar_BatchSize\u001b[0m\u001b[0;34m:\u001b[0m\u001b[0;34m\u001b[0m\u001b[0;34m\u001b[0m\u001b[0m\n\u001b[0m\u001b[1;32m      3\u001b[0m   \u001b[0;32mfor\u001b[0m \u001b[0mj\u001b[0m \u001b[0;32min\u001b[0m \u001b[0mvar_Epochs\u001b[0m\u001b[0;34m:\u001b[0m\u001b[0;34m\u001b[0m\u001b[0;34m\u001b[0m\u001b[0m\n\u001b[1;32m      4\u001b[0m      \u001b[0;32mfor\u001b[0m \u001b[0mk\u001b[0m \u001b[0;32min\u001b[0m \u001b[0mvar_TrainSize\u001b[0m\u001b[0;34m:\u001b[0m\u001b[0;34m\u001b[0m\u001b[0;34m\u001b[0m\u001b[0m\n\u001b[1;32m      5\u001b[0m        \u001b[0;32mfor\u001b[0m \u001b[0ml\u001b[0m \u001b[0;32min\u001b[0m \u001b[0mvar_ValPercent\u001b[0m\u001b[0;34m:\u001b[0m\u001b[0;34m\u001b[0m\u001b[0;34m\u001b[0m\u001b[0m\n",
            "\u001b[0;31mNameError\u001b[0m: name 'var_BatchSize' is not defined"
          ]
        }
      ]
    },
    {
      "cell_type": "code",
      "metadata": {
        "id": "44kD7Vn6OUwy",
        "colab": {
          "base_uri": "https://localhost:8080/"
        },
        "outputId": "4731bd17-468a-46db-9cbe-f109ccf28edb"
      },
      "source": [
        "# batch_size = 50\n",
        "# epochs = 30\n",
        "\n",
        "# model.compile(loss=\"categorical_crossentropy\", optimizer=\"adam\", metrics=[\"accuracy\"])\n",
        "\n",
        "# model.fit(x_train, y_train, batch_size=batch_size, epochs=epochs, validation_split=0.5)"
      ],
      "execution_count": 32,
      "outputs": [
        {
          "output_type": "stream",
          "text": [
            "Epoch 1/30\n",
            "1/1 [==============================] - 1s 594ms/step - loss: 0.1392 - accuracy: 0.9800 - val_loss: 0.7408 - val_accuracy: 0.7200\n",
            "Epoch 2/30\n",
            "1/1 [==============================] - 0s 70ms/step - loss: 0.1347 - accuracy: 1.0000 - val_loss: 0.7687 - val_accuracy: 0.7000\n",
            "Epoch 3/30\n",
            "1/1 [==============================] - 0s 68ms/step - loss: 0.1575 - accuracy: 0.9800 - val_loss: 0.7568 - val_accuracy: 0.7000\n",
            "Epoch 4/30\n",
            "1/1 [==============================] - 0s 69ms/step - loss: 0.1995 - accuracy: 0.9400 - val_loss: 0.7431 - val_accuracy: 0.7600\n",
            "Epoch 5/30\n",
            "1/1 [==============================] - 0s 71ms/step - loss: 0.2573 - accuracy: 0.9000 - val_loss: 0.7460 - val_accuracy: 0.7800\n",
            "Epoch 6/30\n",
            "1/1 [==============================] - 0s 80ms/step - loss: 0.1449 - accuracy: 0.9600 - val_loss: 0.7655 - val_accuracy: 0.7800\n",
            "Epoch 7/30\n",
            "1/1 [==============================] - 0s 73ms/step - loss: 0.1892 - accuracy: 0.9200 - val_loss: 0.7923 - val_accuracy: 0.7800\n",
            "Epoch 8/30\n",
            "1/1 [==============================] - 0s 89ms/step - loss: 0.1565 - accuracy: 0.9600 - val_loss: 0.8045 - val_accuracy: 0.7800\n",
            "Epoch 9/30\n",
            "1/1 [==============================] - 0s 88ms/step - loss: 0.2693 - accuracy: 0.9200 - val_loss: 0.8056 - val_accuracy: 0.7800\n",
            "Epoch 10/30\n",
            "1/1 [==============================] - 0s 81ms/step - loss: 0.2334 - accuracy: 0.9400 - val_loss: 0.8079 - val_accuracy: 0.7400\n",
            "Epoch 11/30\n",
            "1/1 [==============================] - 0s 76ms/step - loss: 0.2034 - accuracy: 0.9200 - val_loss: 0.8096 - val_accuracy: 0.7400\n",
            "Epoch 12/30\n",
            "1/1 [==============================] - 0s 74ms/step - loss: 0.1035 - accuracy: 1.0000 - val_loss: 0.8070 - val_accuracy: 0.6800\n",
            "Epoch 13/30\n",
            "1/1 [==============================] - 0s 79ms/step - loss: 0.1543 - accuracy: 0.9800 - val_loss: 0.7995 - val_accuracy: 0.7000\n",
            "Epoch 14/30\n",
            "1/1 [==============================] - 0s 82ms/step - loss: 0.1112 - accuracy: 0.9600 - val_loss: 0.7997 - val_accuracy: 0.7200\n",
            "Epoch 15/30\n",
            "1/1 [==============================] - 0s 89ms/step - loss: 0.1074 - accuracy: 1.0000 - val_loss: 0.7998 - val_accuracy: 0.7200\n",
            "Epoch 16/30\n",
            "1/1 [==============================] - 0s 82ms/step - loss: 0.1301 - accuracy: 0.9800 - val_loss: 0.7963 - val_accuracy: 0.7200\n",
            "Epoch 17/30\n",
            "1/1 [==============================] - 0s 90ms/step - loss: 0.1329 - accuracy: 1.0000 - val_loss: 0.7995 - val_accuracy: 0.7200\n",
            "Epoch 18/30\n",
            "1/1 [==============================] - 0s 76ms/step - loss: 0.1188 - accuracy: 0.9600 - val_loss: 0.8054 - val_accuracy: 0.7400\n",
            "Epoch 19/30\n",
            "1/1 [==============================] - 0s 80ms/step - loss: 0.0946 - accuracy: 0.9800 - val_loss: 0.8116 - val_accuracy: 0.7600\n",
            "Epoch 20/30\n",
            "1/1 [==============================] - 0s 74ms/step - loss: 0.0946 - accuracy: 0.9800 - val_loss: 0.8262 - val_accuracy: 0.7600\n",
            "Epoch 21/30\n",
            "1/1 [==============================] - 0s 86ms/step - loss: 0.1511 - accuracy: 0.9600 - val_loss: 0.8496 - val_accuracy: 0.7600\n",
            "Epoch 22/30\n",
            "1/1 [==============================] - 0s 89ms/step - loss: 0.1130 - accuracy: 0.9800 - val_loss: 0.8640 - val_accuracy: 0.7400\n",
            "Epoch 23/30\n",
            "1/1 [==============================] - 0s 84ms/step - loss: 0.1356 - accuracy: 0.9600 - val_loss: 0.8805 - val_accuracy: 0.7400\n",
            "Epoch 24/30\n",
            "1/1 [==============================] - 0s 83ms/step - loss: 0.0865 - accuracy: 1.0000 - val_loss: 0.8850 - val_accuracy: 0.7400\n",
            "Epoch 25/30\n",
            "1/1 [==============================] - 0s 76ms/step - loss: 0.1191 - accuracy: 0.9600 - val_loss: 0.8705 - val_accuracy: 0.7400\n",
            "Epoch 26/30\n",
            "1/1 [==============================] - 0s 77ms/step - loss: 0.1269 - accuracy: 0.9800 - val_loss: 0.8488 - val_accuracy: 0.7400\n",
            "Epoch 27/30\n",
            "1/1 [==============================] - 0s 81ms/step - loss: 0.1046 - accuracy: 0.9800 - val_loss: 0.8278 - val_accuracy: 0.7400\n",
            "Epoch 28/30\n",
            "1/1 [==============================] - 0s 81ms/step - loss: 0.0755 - accuracy: 1.0000 - val_loss: 0.8197 - val_accuracy: 0.7200\n",
            "Epoch 29/30\n",
            "1/1 [==============================] - 0s 91ms/step - loss: 0.0960 - accuracy: 0.9600 - val_loss: 0.8213 - val_accuracy: 0.7200\n",
            "Epoch 30/30\n",
            "1/1 [==============================] - 0s 79ms/step - loss: 0.0946 - accuracy: 0.9600 - val_loss: 0.8285 - val_accuracy: 0.7200\n"
          ],
          "name": "stdout"
        },
        {
          "output_type": "execute_result",
          "data": {
            "text/plain": [
              "<keras.callbacks.History at 0x7feacb1c7510>"
            ]
          },
          "metadata": {},
          "execution_count": 32
        }
      ]
    },
    {
      "cell_type": "markdown",
      "metadata": {
        "id": "f_OXslKCOUw0"
      },
      "source": [
        "## Evaluate the trained model"
      ]
    },
    {
      "cell_type": "code",
      "metadata": {
        "id": "BD9T7nz9OUw1",
        "colab": {
          "base_uri": "https://localhost:8080/"
        },
        "outputId": "ba71ecbf-67ea-4dab-e624-fab4cd87ec00"
      },
      "source": [
        "          score = model.evaluate(x_test, y_test, verbose=1)\n",
        "          print(\"Test loss:\", score[0])\n",
        "          print(\"Test accuracy:\", score[1])"
      ],
      "execution_count": 34,
      "outputs": [
        {
          "output_type": "stream",
          "text": [
            "Test loss: 0.912209689617157\n",
            "Test accuracy: 0.6866999864578247\n"
          ],
          "name": "stdout"
        }
      ]
    },
    {
      "cell_type": "code",
      "metadata": {
        "colab": {
          "base_uri": "https://localhost:8080/",
          "height": 428
        },
        "id": "DyqgW4Qyn3y5",
        "outputId": "27b6b5e6-c452-4208-9eac-b0a87c7a21e2"
      },
      "source": [
        "predictions = model.predict(x_test)\n",
        "predictions = np.argmax(predictions, axis=1)\n",
        " \n",
        "y_test = np.argmax(y_test, axis=1) \n",
        "\n",
        "confusion_matrix = tf.math.confusion_matrix(y_test, predictions)  #First Variable is on VERTICAL, second Variable is on X HORIZONTAL\n",
        "#confusion_matrix = tf.math.confusion_matrix(predictions, tf.Variable(np.ones(predictions.shape)))\n",
        "\n",
        "f, ax = plt.subplots(figsize=(9, 7))\n",
        "sn.heatmap(\n",
        "    confusion_matrix,\n",
        "    annot=True,\n",
        "    linewidths=.5,\n",
        "    fmt=\"d\",\n",
        "    square=True,\n",
        "    ax=ax\n",
        ")\n",
        "plt.show()\n"
      ],
      "execution_count": 31,
      "outputs": [
        {
          "output_type": "display_data",
          "data": {
            "image/png": "[encoded data removed]",
            "text/plain": [
              "<Figure size 648x504 with 2 Axes>"
            ]
          },
          "metadata": {
            "needs_background": "light"
          }
        }
      ]
    },
    {
      "cell_type": "markdown",
      "metadata": {
        "id": "YobOk8sNTgip"
      },
      "source": [
        "In my first run, no data augmentation, 100 random samples of the Training Set, using 50% of that as the Validation Set, using a Batch Size of 50 and Epochs = 30, the resulting accuracy of the test-set is Test loss: 0.912209689617157\n",
        "Test accuracy: 0.6866999864578247"
      ]
    },
    {
      "cell_type": "code",
      "metadata": {
        "colab": {
          "base_uri": "https://localhost:8080/",
          "height": 464
        },
        "id": "3aRFTHeG1SkQ",
        "outputId": "3414f2ec-1de7-408e-ce24-0399127a9ef4"
      },
      "source": [
        "## I want to pick the largest value on the confusion matrix not on the diagonal\n",
        "confusing_part_matrix= np.array(confusion_matrix)-np.identity(confusion_matrix.shape[0])*np.diag(confusion_matrix)\n",
        "\n",
        "confusing_part_matrix = tf.convert_to_tensor(confusing_part_matrix)\n",
        "\n",
        "f, ax = plt.subplots(figsize=(9, 7))\n",
        "sn.heatmap(\n",
        "    confusing_part_matrix,\n",
        "    annot=True,\n",
        "    linewidths=.5\n",
        "    #,fmt=\"d\"\n",
        "    #,square=True\n",
        "    #,ax=ax\n",
        ")\n",
        "plt.show()\n",
        "\n",
        "\n",
        "## find the max value of those remaining numbers\n",
        "thisnumber=np.max(confusing_part_matrix)\n",
        "\n",
        "x_thisnumber=np.argmax(confusing_part_matrix,axis=0)\n",
        "y_thisnumber=np.argmax(confusing_part_matrix,axis=1)\n",
        "z_thisnumber=np.argmax(confusing_part_matrix)\n",
        "display(x_thisnumber,y_thisnumber)\n",
        "#print(\"The worst the algorithm did is between \" confus)\n",
        " "
      ],
      "execution_count": 7,
      "outputs": [
        {
          "output_type": "display_data",
          "data": {
            "image/png": "[encoded data removed]",
            "text/plain": [
              "<Figure size 648x504 with 2 Axes>"
            ]
          },
          "metadata": {
            "needs_background": "light"
          }
        },
        {
          "output_type": "display_data",
          "data": {
            "text/plain": [
              "array([6, 3, 6, 4, 2, 7, 2, 5, 2, 7])"
            ]
          },
          "metadata": {}
        },
        {
          "output_type": "display_data",
          "data": {
            "text/plain": [
              "array([2, 3, 6, 0, 6, 7, 0, 5, 4, 5])"
            ]
          },
          "metadata": {}
        }
      ]
    },
    {
      "cell_type": "code",
      "metadata": {
        "colab": {
          "base_uri": "https://localhost:8080/"
        },
        "id": "ZT4qB3nZ2WwB",
        "outputId": "39f64d5d-c79c-451b-feef-1bfa8917bd4e"
      },
      "source": [
        "confusing_part_matrix[0]"
      ],
      "execution_count": 8,
      "outputs": [
        {
          "output_type": "execute_result",
          "data": {
            "text/plain": [
              "<tf.Tensor: shape=(10,), dtype=float64, numpy=array([ 0.,  3., 44., 22., 25., 10., 15.,  1., 10.,  0.])>"
            ]
          },
          "metadata": {},
          "execution_count": 8
        }
      ]
    },
    {
      "cell_type": "code",
      "metadata": {
        "id": "Uo0qd0Wy5jmT",
        "colab": {
          "base_uri": "https://localhost:8080/"
        },
        "outputId": "51743aaf-37ac-4446-f2d7-34cdd82715d5"
      },
      "source": [
        "z_thisnumber=np.argmax(confusing_part_matrix)\n",
        "z_thisnumber\n",
        "print(\"So the most confused classes were between: \" , np.math.floor(z_thisnumber/10), \" a\",  LABEL_NAMES[np.math.floor(z_thisnumber/10)] , \" and  \", z_thisnumber%10, \" a \",  \n",
        "LABEL_NAMES[z_thisnumber%10])\n",
        "\n"
      ],
      "execution_count": 38,
      "outputs": [
        {
          "output_type": "stream",
          "text": [
            "So the most confused classes were between:  2  a pullover  and   6  a  shirt\n"
          ],
          "name": "stdout"
        }
      ]
    },
    {
      "cell_type": "code",
      "metadata": {
        "colab": {
          "base_uri": "https://localhost:8080/"
        },
        "id": "WhozCsi1MjMD",
        "outputId": "f37ca272-1f30-478c-8504-ab9b5a1c1b54"
      },
      "source": [
        "\n",
        "LABEL_NAMES = ['t_shirt', 'trouser', 'pullover', 'dress', 'coat', 'sandal', 'shirt', 'sneaker', 'bag', 'ankle_boots']\n",
        "\n",
        "delta = predictions - y_test\n",
        "\n",
        "wrong = tf.boolean_mask(predictions, delta)\n",
        "print(wrong)\n",
        "\n",
        "#  if i != 0\n",
        "#    display(\"Prediction \", i, \" is \" + LABEL_NAMES[predictions[i]], \"but it is \",  LABEL_NAMES[y_test[i] )\n"
      ],
      "execution_count": 23,
      "outputs": [
        {
          "output_type": "stream",
          "text": [
            "tf.Tensor([5 6 6 ... 4 6 0], shape=(3133,), dtype=int64)\n"
          ],
          "name": "stdout"
        }
      ]
    },
    {
      "cell_type": "markdown",
      "metadata": {
        "id": "V3V0jrX_Mmxl"
      },
      "source": [
        ""
      ]
    },
    {
      "cell_type": "code",
      "metadata": {
        "id": "9K24O6nCMnPP"
      },
      "source": [
        "plt.imshow(x_test[0].reshape((28,28)), cmap=plt.cm.binary)\n",
        "plt.show()"
      ],
      "execution_count": null,
      "outputs": []
    }
  ]
}