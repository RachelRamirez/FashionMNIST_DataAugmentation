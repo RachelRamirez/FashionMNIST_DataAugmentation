{
  "nbformat": 4,
  "nbformat_minor": 0,
  "metadata": {
    "colab": {
      "name": "Copy of mnist_convnet",
      "provenance": [],
      "collapsed_sections": [],
      "toc_visible": true,
      "include_colab_link": true
    },
    "kernelspec": {
      "display_name": "Python 3",
      "language": "python",
      "name": "python3"
    },
    "language_info": {
      "codemirror_mode": {
        "name": "ipython",
        "version": 3
      },
      "file_extension": ".py",
      "mimetype": "text/x-python",
      "name": "python",
      "nbconvert_exporter": "python",
      "pygments_lexer": "ipython3",
      "version": "3.7.0"
    }
  },
  "cells": [
    {
      "cell_type": "markdown",
      "metadata": {
        "id": "view-in-github",
        "colab_type": "text"
      },
      "source": [
        "<a href=\"https://colab.research.google.com/github/RachelRamirez/FashionMNIST_DataAugmentation/blob/main/fashion_mnist_convnet.ipynb\" target=\"_parent\"><img src=\"https://colab.research.google.com/assets/colab-badge.svg\" alt=\"Open In Colab\"/></a>"
      ]
    },
    {
      "cell_type": "markdown",
      "metadata": {
        "id": "3tLeuxPfOUwh"
      },
      "source": [
        "# \"Simple MNIST convnet\" Architecture with Extremely Limited Data used to Train CNN\n",
        "\n",
        "**Original Author as applied to MNIST (Numbers):** [fchollet](https://twitter.com/fchollet)<br>\n",
        "**Date created:** 2015/06/19<br>\n",
        "**Last modified:** 2020/04/21<br>\n",
        "**Applied to Fashion MNIST** 2021/08/25\n",
        "\n",
        "**Description:** A simple convnet that achieves ~90% test accuracy on MNIST, is applied to the Fashion MNIST.\n",
        "\n",
        "Then data is limited to 1000 training samples to view the effects of data augmentation on increasing model accuracy.\n",
        "\n",
        "More features are added for residual/error analysis such as confusion matrix and data augmentation."
      ]
    },
    {
      "cell_type": "markdown",
      "metadata": {
        "id": "vqMnsJfoOUwm"
      },
      "source": [
        "## Setup"
      ]
    },
    {
      "cell_type": "code",
      "metadata": {
        "id": "SGvYofsKOUwo"
      },
      "source": [
        "import numpy as np\n",
        "from tensorflow import keras\n",
        "from tensorflow.keras import layers\n",
        "import tensorflow as tf\n",
        "import matplotlib.pyplot as plt\n",
        "import seaborn as sn"
      ],
      "execution_count": 8,
      "outputs": []
    },
    {
      "cell_type": "markdown",
      "metadata": {
        "id": "R5UJ4XGxOUwp"
      },
      "source": [
        "## Prepare the data"
      ]
    },
    {
      "cell_type": "code",
      "metadata": {
        "id": "nW6G-5CNOUwq",
        "colab": {
          "base_uri": "https://localhost:8080/"
        },
        "outputId": "84e2bdbd-246f-4f8a-888c-f5dba6916890"
      },
      "source": [
        "# Model / data parameters\n",
        "num_classes = 10\n",
        "input_shape = (28, 28, 1)\n",
        "\n",
        "# the data, split between train and test sets\n",
        "(x_train, y_train), (x_test, y_test) = keras.datasets.fashion_mnist.load_data()\n",
        "\n",
        "x_train = x_train[0:2000]\n",
        "y_train = y_train[0:2000]\n",
        "\n",
        "# Scale images to the [0, 1] range\n",
        "x_train = x_train.astype(\"float32\") / 255\n",
        "x_test = x_test.astype(\"float32\") / 255\n",
        "# Make sure images have shape (28, 28, 1)\n",
        "x_train = np.expand_dims(x_train, -1)\n",
        "x_test = np.expand_dims(x_test, -1)\n",
        "print(\"x_train shape:\", x_train.shape)\n",
        "print(x_train.shape[0], \"train samples\")\n",
        "print(x_test.shape[0], \"test samples\")\n",
        "\n",
        "\n",
        "# convert class vectors to binary class matrices\n",
        "y_train = keras.utils.to_categorical(y_train, num_classes)\n",
        "y_test = keras.utils.to_categorical(y_test, num_classes)"
      ],
      "execution_count": 9,
      "outputs": [
        {
          "output_type": "stream",
          "text": [
            "x_train shape: (2000, 28, 28, 1)\n",
            "2000 train samples\n",
            "10000 test samples\n"
          ],
          "name": "stdout"
        }
      ]
    },
    {
      "cell_type": "markdown",
      "metadata": {
        "id": "j3J-NWLSOUwr"
      },
      "source": [
        "## Build the model"
      ]
    },
    {
      "cell_type": "code",
      "metadata": {
        "id": "7MEHlGkLOUwt",
        "colab": {
          "base_uri": "https://localhost:8080/"
        },
        "outputId": "1462b547-8ab9-4134-89f5-edc30c36af9f"
      },
      "source": [
        "model = keras.Sequential(\n",
        "    [\n",
        "        keras.Input(shape=input_shape),\n",
        "        layers.Conv2D(32, kernel_size=(3, 3), activation=\"relu\"),\n",
        "        layers.MaxPooling2D(pool_size=(2, 2)),\n",
        "        layers.Conv2D(64, kernel_size=(3, 3), activation=\"relu\"),\n",
        "        layers.MaxPooling2D(pool_size=(2, 2)),\n",
        "        layers.Flatten(),\n",
        "        layers.Dropout(0.5),\n",
        "        layers.Dense(num_classes, activation=\"softmax\"),\n",
        "    ]\n",
        ")\n",
        "\n",
        "model.summary()"
      ],
      "execution_count": 10,
      "outputs": [
        {
          "output_type": "stream",
          "text": [
            "Model: \"sequential_1\"\n",
            "_________________________________________________________________\n",
            "Layer (type)                 Output Shape              Param #   \n",
            "=================================================================\n",
            "conv2d_2 (Conv2D)            (None, 26, 26, 32)        320       \n",
            "_________________________________________________________________\n",
            "max_pooling2d_2 (MaxPooling2 (None, 13, 13, 32)        0         \n",
            "_________________________________________________________________\n",
            "conv2d_3 (Conv2D)            (None, 11, 11, 64)        18496     \n",
            "_________________________________________________________________\n",
            "max_pooling2d_3 (MaxPooling2 (None, 5, 5, 64)          0         \n",
            "_________________________________________________________________\n",
            "flatten_1 (Flatten)          (None, 1600)              0         \n",
            "_________________________________________________________________\n",
            "dropout_1 (Dropout)          (None, 1600)              0         \n",
            "_________________________________________________________________\n",
            "dense_1 (Dense)              (None, 10)                16010     \n",
            "=================================================================\n",
            "Total params: 34,826\n",
            "Trainable params: 34,826\n",
            "Non-trainable params: 0\n",
            "_________________________________________________________________\n"
          ],
          "name": "stdout"
        }
      ]
    },
    {
      "cell_type": "markdown",
      "metadata": {
        "id": "9mLvi5vnOUww"
      },
      "source": [
        "## Train the model"
      ]
    },
    {
      "cell_type": "code",
      "metadata": {
        "id": "44kD7Vn6OUwy",
        "colab": {
          "base_uri": "https://localhost:8080/"
        },
        "outputId": "afba74a4-968f-46fc-c91e-a8de61ca1ae3"
      },
      "source": [
        "batch_size = 50\n",
        "epochs = 15\n",
        "\n",
        "model.compile(loss=\"categorical_crossentropy\", optimizer=\"adam\", metrics=[\"accuracy\"])\n",
        "\n",
        "model.fit(x_train, y_train, batch_size=batch_size, epochs=epochs, validation_split=0.5)"
      ],
      "execution_count": 11,
      "outputs": [
        {
          "output_type": "stream",
          "text": [
            "Epoch 1/15\n",
            "20/20 [==============================] - 2s 78ms/step - loss: 2.0881 - accuracy: 0.3220 - val_loss: 1.6582 - val_accuracy: 0.6060\n",
            "Epoch 2/15\n",
            "20/20 [==============================] - 1s 66ms/step - loss: 1.3181 - accuracy: 0.5550 - val_loss: 0.9895 - val_accuracy: 0.6530\n",
            "Epoch 3/15\n",
            "20/20 [==============================] - 1s 68ms/step - loss: 0.9312 - accuracy: 0.6660 - val_loss: 0.8122 - val_accuracy: 0.6790\n",
            "Epoch 4/15\n",
            "20/20 [==============================] - 1s 66ms/step - loss: 0.7867 - accuracy: 0.7270 - val_loss: 0.7248 - val_accuracy: 0.7330\n",
            "Epoch 5/15\n",
            "20/20 [==============================] - 1s 64ms/step - loss: 0.7127 - accuracy: 0.7600 - val_loss: 0.6815 - val_accuracy: 0.7550\n",
            "Epoch 6/15\n",
            "20/20 [==============================] - 1s 65ms/step - loss: 0.6536 - accuracy: 0.7680 - val_loss: 0.6592 - val_accuracy: 0.7660\n",
            "Epoch 7/15\n",
            "20/20 [==============================] - 1s 65ms/step - loss: 0.6218 - accuracy: 0.7900 - val_loss: 0.6180 - val_accuracy: 0.7830\n",
            "Epoch 8/15\n",
            "20/20 [==============================] - 1s 65ms/step - loss: 0.5753 - accuracy: 0.7930 - val_loss: 0.5916 - val_accuracy: 0.7880\n",
            "Epoch 9/15\n",
            "20/20 [==============================] - 1s 64ms/step - loss: 0.5553 - accuracy: 0.8010 - val_loss: 0.5795 - val_accuracy: 0.7940\n",
            "Epoch 10/15\n",
            "20/20 [==============================] - 1s 68ms/step - loss: 0.5409 - accuracy: 0.8190 - val_loss: 0.5705 - val_accuracy: 0.8000\n",
            "Epoch 11/15\n",
            "20/20 [==============================] - 1s 67ms/step - loss: 0.5103 - accuracy: 0.8220 - val_loss: 0.5618 - val_accuracy: 0.8050\n",
            "Epoch 12/15\n",
            "20/20 [==============================] - 1s 67ms/step - loss: 0.4812 - accuracy: 0.8410 - val_loss: 0.5613 - val_accuracy: 0.8000\n",
            "Epoch 13/15\n",
            "20/20 [==============================] - 1s 67ms/step - loss: 0.4736 - accuracy: 0.8470 - val_loss: 0.5434 - val_accuracy: 0.8020\n",
            "Epoch 14/15\n",
            "20/20 [==============================] - 1s 66ms/step - loss: 0.4658 - accuracy: 0.8290 - val_loss: 0.5488 - val_accuracy: 0.8040\n",
            "Epoch 15/15\n",
            "20/20 [==============================] - 1s 65ms/step - loss: 0.4596 - accuracy: 0.8390 - val_loss: 0.5569 - val_accuracy: 0.8080\n"
          ],
          "name": "stdout"
        },
        {
          "output_type": "execute_result",
          "data": {
            "text/plain": [
              "<keras.callbacks.History at 0x7fd6bb9ad850>"
            ]
          },
          "metadata": {},
          "execution_count": 11
        }
      ]
    },
    {
      "cell_type": "markdown",
      "metadata": {
        "id": "f_OXslKCOUw0"
      },
      "source": [
        "## Evaluate the trained model"
      ]
    },
    {
      "cell_type": "code",
      "metadata": {
        "id": "BD9T7nz9OUw1",
        "colab": {
          "base_uri": "https://localhost:8080/"
        },
        "outputId": "ea94f221-bd6f-4b17-88bc-0241042c55d1"
      },
      "source": [
        "score = model.evaluate(x_test, y_test, verbose=0)\n",
        "print(\"Test loss:\", score[0])\n",
        "print(\"Test accuracy:\", score[1])"
      ],
      "execution_count": 12,
      "outputs": [
        {
          "output_type": "stream",
          "text": [
            "Test loss: 0.5773351788520813\n",
            "Test accuracy: 0.791700005531311\n"
          ],
          "name": "stdout"
        }
      ]
    },
    {
      "cell_type": "code",
      "metadata": {
        "colab": {
          "base_uri": "https://localhost:8080/",
          "height": 428
        },
        "id": "DyqgW4Qyn3y5",
        "outputId": "e80389f7-6e19-4bc7-ab5c-d0b6bca86923"
      },
      "source": [
        "predictions = model.predict(x_test)\n",
        "predictions = np.argmax(predictions, axis=1)\n",
        " \n",
        "y_test = np.argmax(y_test, axis=1) \n",
        "\n",
        "confusion_matrix = tf.math.confusion_matrix(y_test, predictions)\n",
        "\n",
        "f, ax = plt.subplots(figsize=(9, 7))\n",
        "sn.heatmap(\n",
        "    confusion_matrix,\n",
        "    annot=True,\n",
        "    linewidths=.5,\n",
        "    fmt=\"d\",\n",
        "    square=True,\n",
        "    ax=ax\n",
        ")\n",
        "plt.show()\n"
      ],
      "execution_count": 13,
      "outputs": [
        {
          "output_type": "display_data",
          "data": {
            "image/png": "[encoded data removed]",
            "text/plain": [
              "<Figure size 648x504 with 2 Axes>"
            ]
          },
          "metadata": {
            "needs_background": "light"
          }
        }
      ]
    },
    {
      "cell_type": "code",
      "metadata": {
        "colab": {
          "base_uri": "https://localhost:8080/",
          "height": 768
        },
        "id": "3aRFTHeG1SkQ",
        "outputId": "902d6236-e025-4423-9a00-1edc502528ff"
      },
      "source": [
        "## I want to pick the largest value on the confusion matrix not on the diagonal\n",
        "confusing_part_matrix= np.array(confusion_matrix)-np.identity(confusion_matrix.shape[0])*np.diag(confusion_matrix)\n",
        "\n",
        "confusing_part_matrix = tf.convert_to_tensor(confusing_part_matrix)\n",
        "\n",
        "f, ax = plt.subplots(figsize=(9, 7))\n",
        "sn.heatmap(\n",
        "    confusing_part_matrix,\n",
        "    annot=True,\n",
        "    linewidths=.5\n",
        "    #,fmt=\"d\"\n",
        "    #,square=True\n",
        "    #,ax=ax\n",
        ")\n",
        "plt.show()\n",
        "\n",
        "\n",
        "## find the max value of those remaining numbers\n",
        "thisnumber=np.max(confusing_part_matrix)\n",
        "x_thisnumber=np.argmax(confusing_part_matrix,axis=0)\n",
        "y_thisnumber=np.argmax(confusing_part_matrix,axis=1)\n",
        "z_thisnumber=np.argmax(confusing_part_matrix)\n",
        "display(x_thisnumber,y_thisnumber)\n",
        "#print(\"The worst the algorithm did is between \" confus)\n",
        "confusing_part_matrix.index[thisnumber]"
      ],
      "execution_count": 14,
      "outputs": [
        {
          "output_type": "display_data",
          "data": {
            "image/png": "[encoded data removed]",
            "text/plain": [
              "<Figure size 648x504 with 2 Axes>"
            ]
          },
          "metadata": {
            "needs_background": "light"
          }
        },
        {
          "output_type": "display_data",
          "data": {
            "text/plain": [
              "array([6, 3, 6, 4, 2, 7, 2, 5, 6, 7])"
            ]
          },
          "metadata": {}
        },
        {
          "output_type": "display_data",
          "data": {
            "text/plain": [
              "array([6, 3, 4, 6, 6, 7, 0, 9, 6, 7])"
            ]
          },
          "metadata": {}
        },
        {
          "output_type": "error",
          "ename": "AttributeError",
          "evalue": "ignored",
          "traceback": [
            "\u001b[0;31m---------------------------------------------------------------------------\u001b[0m",
            "\u001b[0;31mAttributeError\u001b[0m                            Traceback (most recent call last)",
            "\u001b[0;32m<ipython-input-14-74a6f396df01>\u001b[0m in \u001b[0;36m<module>\u001b[0;34m()\u001b[0m\n\u001b[1;32m     23\u001b[0m \u001b[0mdisplay\u001b[0m\u001b[0;34m(\u001b[0m\u001b[0mx_thisnumber\u001b[0m\u001b[0;34m,\u001b[0m\u001b[0my_thisnumber\u001b[0m\u001b[0;34m)\u001b[0m\u001b[0;34m\u001b[0m\u001b[0;34m\u001b[0m\u001b[0m\n\u001b[1;32m     24\u001b[0m \u001b[0;31m#print(\"The worst the algorithm did is between \" confus)\u001b[0m\u001b[0;34m\u001b[0m\u001b[0;34m\u001b[0m\u001b[0;34m\u001b[0m\u001b[0m\n\u001b[0;32m---> 25\u001b[0;31m \u001b[0mconfusing_part_matrix\u001b[0m\u001b[0;34m.\u001b[0m\u001b[0mindex\u001b[0m\u001b[0;34m[\u001b[0m\u001b[0mthisnumber\u001b[0m\u001b[0;34m]\u001b[0m\u001b[0;34m\u001b[0m\u001b[0;34m\u001b[0m\u001b[0m\n\u001b[0m",
            "\u001b[0;32m/usr/local/lib/python3.7/dist-packages/tensorflow/python/framework/ops.py\u001b[0m in \u001b[0;36m__getattr__\u001b[0;34m(self, name)\u001b[0m\n\u001b[1;32m    399\u001b[0m         \u001b[0;32mfrom\u001b[0m \u001b[0mtensorflow\u001b[0m\u001b[0;34m.\u001b[0m\u001b[0mpython\u001b[0m\u001b[0;34m.\u001b[0m\u001b[0mops\u001b[0m\u001b[0;34m.\u001b[0m\u001b[0mnumpy_ops\u001b[0m \u001b[0;32mimport\u001b[0m \u001b[0mnp_config\u001b[0m\u001b[0;34m\u001b[0m\u001b[0;34m\u001b[0m\u001b[0m\n\u001b[1;32m    400\u001b[0m         np_config.enable_numpy_behavior()\"\"\".format(type(self).__name__, name))\n\u001b[0;32m--> 401\u001b[0;31m     \u001b[0mself\u001b[0m\u001b[0;34m.\u001b[0m\u001b[0m__getattribute__\u001b[0m\u001b[0;34m(\u001b[0m\u001b[0mname\u001b[0m\u001b[0;34m)\u001b[0m\u001b[0;34m\u001b[0m\u001b[0;34m\u001b[0m\u001b[0m\n\u001b[0m\u001b[1;32m    402\u001b[0m \u001b[0;34m\u001b[0m\u001b[0m\n\u001b[1;32m    403\u001b[0m   \u001b[0;34m@\u001b[0m\u001b[0mstaticmethod\u001b[0m\u001b[0;34m\u001b[0m\u001b[0;34m\u001b[0m\u001b[0m\n",
            "\u001b[0;31mAttributeError\u001b[0m: 'tensorflow.python.framework.ops.EagerTensor' object has no attribute 'index'"
          ]
        }
      ]
    },
    {
      "cell_type": "code",
      "metadata": {
        "id": "ZT4qB3nZ2WwB"
      },
      "source": [
        "confusing_part_matrix[0]"
      ],
      "execution_count": null,
      "outputs": []
    },
    {
      "cell_type": "code",
      "metadata": {
        "id": "Uo0qd0Wy5jmT"
      },
      "source": [
        "z_thisnumber=np.argmax(confusing_part_matrix)\n",
        "z_thisnumber"
      ],
      "execution_count": null,
      "outputs": []
    },
    {
      "cell_type": "code",
      "metadata": {
        "id": "WhozCsi1MjMD"
      },
      "source": [
        "\n",
        "LABEL_NAMES = ['t_shirt', 'trouser', 'pullover', 'dress', 'coat', 'sandal', 'shirt', 'sneaker', 'bag', 'ankle_boots']\n",
        "\n",
        "for i in range(10000):\n",
        "  if (predictions[i]-y_test[i]==0):\n",
        "  else:\n",
        "    display(\"Prediction \", i, \" is \" + LABEL_NAMES[predictions[i]], \"but it is \",  LABEL_NAMES[predictions[i])\n"
      ],
      "execution_count": null,
      "outputs": []
    },
    {
      "cell_type": "markdown",
      "metadata": {
        "id": "V3V0jrX_Mmxl"
      },
      "source": [
        ""
      ]
    },
    {
      "cell_type": "code",
      "metadata": {
        "id": "9K24O6nCMnPP"
      },
      "source": [
        "plt.imshow(x_test[0].reshape((28,28)), cmap=plt.cm.binary)\n",
        "plt.show()"
      ],
      "execution_count": null,
      "outputs": []
    }
  ]
}