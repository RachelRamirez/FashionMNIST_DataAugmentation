{
  "nbformat": 4,
  "nbformat_minor": 0,
  "metadata": {
    "colab": {
      "name": "Fashion mnist_convnet",
      "provenance": [],
      "collapsed_sections": [],
      "include_colab_link": true
    },
    "kernelspec": {
      "display_name": "Python 3",
      "language": "python",
      "name": "python3"
    },
    "language_info": {
      "codemirror_mode": {
        "name": "ipython",
        "version": 3
      },
      "file_extension": ".py",
      "mimetype": "text/x-python",
      "name": "python",
      "nbconvert_exporter": "python",
      "pygments_lexer": "ipython3",
      "version": "3.7.0"
    }
  },
  "cells": [
    {
      "cell_type": "markdown",
      "metadata": {
        "id": "view-in-github",
        "colab_type": "text"
      },
      "source": [
        "<a href=\"https://colab.research.google.com/github/RachelRamirez/FashionMNIST_DataAugmentation/blob/main/Fashion_mnist_convnet.ipynb\" target=\"_parent\"><img src=\"https://colab.research.google.com/assets/colab-badge.svg\" alt=\"Open In Colab\"/></a>"
      ]
    },
    {
      "cell_type": "markdown",
      "metadata": {
        "id": "3tLeuxPfOUwh"
      },
      "source": [
        "# \"Simple (Fashion) MNIST convnet\" Architecture with Extremely Limited Data used to Train CNN\n",
        "\n",
        "**Original Author with MNIST:** [fchollet](https://twitter.com/fchollet)<br>\n",
        "Date created: 2015/06/19<br>\n",
        "\n",
        "**Modified Author Applied to Fashion MNIST** [rachelramirez](https://github.com/RachelRamirez/FashionMNIST_DataAugmentation) 2021/08/25\n",
        "\n",
        "**Description:** A simple convnet architecture for training on Fashion MNIST.\n",
        "\n",
        "Then data is limited to varying levels of restriction [500, 1000]  to view the effect of data augmentation on increasing model accuracy.\n",
        "\n",
        "More features are added for residual/error analysis such as confusion matrix and data augmentation."
      ]
    },
    {
      "cell_type": "code",
      "metadata": {
        "id": "SGvYofsKOUwo"
      },
      "source": [
        "import numpy as np\n",
        "from tensorflow import keras\n",
        "from tensorflow.keras import layers\n",
        "import tensorflow as tf\n",
        "import matplotlib.pyplot as plt\n",
        "import seaborn as sn\n",
        "from google.colab import files\n",
        "\n",
        "\n"
      ],
      "execution_count": 1,
      "outputs": []
    },
    {
      "cell_type": "markdown",
      "metadata": {
        "id": "zpKcttwnrTnT"
      },
      "source": [
        "# Experiment"
      ]
    },
    {
      "cell_type": "markdown",
      "metadata": {
        "id": "JJfFyadErbBf"
      },
      "source": [
        "The first part of this experiment is looking at the space for *TrainingSize*, *ValidationSize*, *BatchSize*, and *EpochSize*.  These all likely effect one another (4-way interactions) so a DOE design is used to look at Response Surface Methods.\n",
        "\n",
        "A: BatchSize (10, 100)\n",
        "\n",
        "B: Epochs  (15, 50)\n",
        "\n",
        "C: Training Size (Count)  (100, 1000)\n",
        "\n",
        "D: Validation (as percentage of Training Size)  (20%, 50%) \n",
        "\n",
        "Replicates: 2\n",
        "Center Points: 1"
      ]
    },
    {
      "cell_type": "code",
      "metadata": {
        "id": "dqEfqqnXr9Ji"
      },
      "source": [
        "## Experiment 1 'Global' Variables\n",
        "\n",
        "var_BatchSize =  10,  25\n",
        "var_Epochs =     30,  70\n",
        "var_TrainSize = 505,  1000\n",
        "var_ValPercent = 0.2, 0.3\n",
        "\n",
        "\n",
        "# var_BatchSize =  10\n",
        "# var_Epochs =     15\n",
        "# var_TrainSize = 100\n",
        "# var_ValPercent = 0.2\n",
        "\n",
        " "
      ],
      "execution_count": 2,
      "outputs": []
    },
    {
      "cell_type": "markdown",
      "metadata": {
        "id": "R5UJ4XGxOUwp"
      },
      "source": [
        "## Prepare the data"
      ]
    },
    {
      "cell_type": "code",
      "metadata": {
        "id": "nW6G-5CNOUwq",
        "colab": {
          "base_uri": "https://localhost:8080/"
        },
        "outputId": "5dd44242-015e-49e7-e876-97815de35823"
      },
      "source": [
        "# Model / data parameters\n",
        "num_classes = 10\n",
        "input_shape = (28, 28, 1)\n",
        "\n",
        "# the data, split between train and test sets\n",
        "(x_train, y_train), (x_test, y_test) = keras.datasets.fashion_mnist.load_data()\n",
        "\n",
        "x_train = x_train[1000:2000]\n",
        "y_train = y_train[1000:2000]\n",
        "\n",
        "# Scale images to the [0, 1] range\n",
        "x_train = x_train.astype(\"float32\") / 255\n",
        "x_test = x_test.astype(\"float32\") / 255\n",
        "# Make sure images have shape (28, 28, 1)\n",
        "x_train = np.expand_dims(x_train, -1)\n",
        "x_test = np.expand_dims(x_test, -1)\n",
        "print(\"x_train shape:\", x_train.shape)\n",
        "print(x_train.shape[0], \"train samples\")\n",
        "print(x_test.shape[0], \"test samples\")\n",
        "\n",
        "\n",
        "# convert class vectors to binary class matrices\n",
        "y_train = keras.utils.to_categorical(y_train, num_classes)\n",
        "y_test = keras.utils.to_categorical(y_test, num_classes)"
      ],
      "execution_count": 3,
      "outputs": [
        {
          "output_type": "stream",
          "text": [
            "x_train shape: (1000, 28, 28, 1)\n",
            "1000 train samples\n",
            "10000 test samples\n"
          ],
          "name": "stdout"
        }
      ]
    },
    {
      "cell_type": "markdown",
      "metadata": {
        "id": "j3J-NWLSOUwr"
      },
      "source": [
        "## Build the model"
      ]
    },
    {
      "cell_type": "code",
      "metadata": {
        "id": "7MEHlGkLOUwt",
        "colab": {
          "base_uri": "https://localhost:8080/"
        },
        "outputId": "2d863be9-bde7-4fd8-da3d-cdf5d538aa23"
      },
      "source": [
        "model = keras.Sequential(\n",
        "    [\n",
        "        keras.Input(shape=input_shape),\n",
        "        layers.Conv2D(32, kernel_size=(3, 3), activation=\"relu\"),\n",
        "        layers.MaxPooling2D(pool_size=(2, 2)),\n",
        "        layers.Conv2D(64, kernel_size=(3, 3), activation=\"relu\"),\n",
        "        layers.MaxPooling2D(pool_size=(2, 2)),\n",
        "        layers.Flatten(),\n",
        "        layers.Dropout(0.5),\n",
        "        layers.Dense(num_classes, activation=\"softmax\"),\n",
        "    ]\n",
        ")\n",
        "\n",
        "model.summary()"
      ],
      "execution_count": 4,
      "outputs": [
        {
          "output_type": "stream",
          "text": [
            "Model: \"sequential\"\n",
            "_________________________________________________________________\n",
            "Layer (type)                 Output Shape              Param #   \n",
            "=================================================================\n",
            "conv2d (Conv2D)              (None, 26, 26, 32)        320       \n",
            "_________________________________________________________________\n",
            "max_pooling2d (MaxPooling2D) (None, 13, 13, 32)        0         \n",
            "_________________________________________________________________\n",
            "conv2d_1 (Conv2D)            (None, 11, 11, 64)        18496     \n",
            "_________________________________________________________________\n",
            "max_pooling2d_1 (MaxPooling2 (None, 5, 5, 64)          0         \n",
            "_________________________________________________________________\n",
            "flatten (Flatten)            (None, 1600)              0         \n",
            "_________________________________________________________________\n",
            "dropout (Dropout)            (None, 1600)              0         \n",
            "_________________________________________________________________\n",
            "dense (Dense)                (None, 10)                16010     \n",
            "=================================================================\n",
            "Total params: 34,826\n",
            "Trainable params: 34,826\n",
            "Non-trainable params: 0\n",
            "_________________________________________________________________\n"
          ],
          "name": "stdout"
        }
      ]
    },
    {
      "cell_type": "markdown",
      "metadata": {
        "id": "9mLvi5vnOUww"
      },
      "source": [
        "# Insert DOE Variables -> Train Model"
      ]
    },
    {
      "cell_type": "code",
      "metadata": {
        "id": "rJbHvwogyjG3"
      },
      "source": [
        "# scorelist = []\n",
        "# for b in var_BatchSize:\n",
        "#   for e in var_Epochs:\n",
        "#      for t in var_TrainSize:\n",
        "#        for v in var_ValPercent:\n",
        "#           scorelist += [[b,e,t,v, 100, \"   \" ]]\n",
        "\n",
        "\n",
        "\n",
        "# display(scorelist)"
      ],
      "execution_count": 5,
      "outputs": []
    },
    {
      "cell_type": "markdown",
      "metadata": {
        "id": "7UbYwOVJv7GQ"
      },
      "source": [
        "## Train the model"
      ]
    },
    {
      "cell_type": "code",
      "metadata": {
        "id": "_gfBEyf9v7GS"
      },
      "source": [
        "%%time\n",
        "\n",
        "counter = 1\n",
        "scorelist = []\n",
        "\n",
        "\n",
        "model.compile(loss=\"categorical_crossentropy\", optimizer=\"adam\", metrics=[\"accuracy\"])\n",
        " ## Save Weight is to help Reset the model before Training, very important, otherwise you get better results every run!\n",
        "model.save_weights('model.h5') \n",
        "\n",
        "for t in var_TrainSize:\n",
        "  # I did this to make sure I wasn't cutting down the size of train each time I reran\n",
        "  new_x_train = x_train[0:t]  \n",
        "  new_y_train = y_train[0:t]\n",
        "\n",
        "  for b in var_BatchSize:\n",
        "    for e in var_Epochs:\n",
        "       for v in var_ValPercent:\n",
        "        \n",
        "        batch_size = b\n",
        "        epochs = e\n",
        "\n",
        "\n",
        "        model.compile(loss=\"categorical_crossentropy\", optimizer=\"adam\", metrics=[\"accuracy\"])\n",
        "        model.load_weights('model.h5')\n",
        "\n",
        "        # Verbose  = 0 after I verified everything was working to improve overall speed\n",
        "        model.fit(new_x_train, new_y_train, batch_size=b, epochs=e, validation_split=v, verbose=0)\n",
        "\n",
        "        score = model.evaluate(x_test, y_test, verbose=0)\n",
        "        # print(\"Test loss:\", score[0])\n",
        "        # print(\"Test accuracy:\", score[1])\n",
        "        scorelist += [ [counter, b,  e,    t,   v,   score[0], score[1]] ]\n",
        "        print(\"This is run\", counter, \": \", b, e, t, v,  \"had accuracy: \", score[1], \" test loss: \", score[0])\n",
        "        counter=counter+1\n",
        "\n",
        "#save scorelist as a csv file\n",
        "np.savetxt('data1.csv', scorelist, delimiter=',')\n"
      ],
      "execution_count": 8,
      "outputs": []
    },
    {
      "cell_type": "code",
      "metadata": {
        "id": "wwGJ493w15x9"
      },
      "source": [
        "#save file to my personal computer so I don't lose it to google colab timeout\n",
        "\n",
        "#why isn't this working?! :-( \n",
        "#files.download('data.csv') "
      ],
      "execution_count": null,
      "outputs": []
    },
    {
      "cell_type": "code",
      "metadata": {
        "id": "44kD7Vn6OUwy"
      },
      "source": [
        "# batch_size = 50\n",
        "# epochs = 30\n",
        "\n",
        "# model.compile(loss=\"categorical_crossentropy\", optimizer=\"adam\", metrics=[\"accuracy\"])\n",
        "\n",
        "# model.fit(x_train, y_train, batch_size=batch_size, epochs=epochs, validation_split=0.5)"
      ],
      "execution_count": 8,
      "outputs": []
    },
    {
      "cell_type": "markdown",
      "metadata": {
        "id": "f_OXslKCOUw0"
      },
      "source": [
        "## Evaluate the trained model"
      ]
    },
    {
      "cell_type": "code",
      "metadata": {
        "id": "BD9T7nz9OUw1"
      },
      "source": [
        "          # score = model.evaluate(x_test, y_test, verbose=1)\n",
        "          # print(\"Test loss:\", score[0])\n",
        "          # print(\"Test accuracy:\", score[1])"
      ],
      "execution_count": 9,
      "outputs": []
    },
    {
      "cell_type": "code",
      "metadata": {
        "colab": {
          "base_uri": "https://localhost:8080/",
          "height": 428
        },
        "id": "DyqgW4Qyn3y5",
        "outputId": "8b2bfdf2-5457-4dbc-d816-f42ef9bd250c"
      },
      "source": [
        "predictions = model.predict(x_test)\n",
        "predictions = np.argmax(predictions, axis=1)\n",
        " \n",
        "y_test = np.argmax(y_test, axis=1) \n",
        "\n",
        "confusion_matrix = tf.math.confusion_matrix(y_test, predictions)  #First Variable is on VERTICAL, second Variable is on X HORIZONTAL\n",
        "#confusion_matrix = tf.math.confusion_matrix(predictions, tf.Variable(np.ones(predictions.shape)))\n",
        "\n",
        "f, ax = plt.subplots(figsize=(9, 7))\n",
        "sn.heatmap(\n",
        "    confusion_matrix,\n",
        "    annot=True,\n",
        "    linewidths=.5,\n",
        "    fmt=\"d\",\n",
        "    square=True,\n",
        "    ax=ax\n",
        ")\n",
        "plt.show()\n"
      ],
      "execution_count": 10,
      "outputs": [
        {
          "output_type": "display_data",
          "data": {
            "image/png": "[encoded data removed]",
            "text/plain": [
              "<Figure size 648x504 with 2 Axes>"
            ]
          },
          "metadata": {
            "needs_background": "light"
          }
        }
      ]
    },
    {
      "cell_type": "markdown",
      "metadata": {
        "id": "YobOk8sNTgip"
      },
      "source": [
        "In my first run, no data augmentation, 100 random samples of the Training Set, using 50% of that as the Validation Set, using a Batch Size of 50 and Epochs = 30, the resulting accuracy of the test-set is Test loss: 0.912209689617157\n",
        "Test accuracy: 0.6866999864578247"
      ]
    },
    {
      "cell_type": "code",
      "metadata": {
        "colab": {
          "base_uri": "https://localhost:8080/",
          "height": 462
        },
        "id": "3aRFTHeG1SkQ",
        "outputId": "baf173c9-3a62-48fe-9626-2c6f0d7eb9d4"
      },
      "source": [
        "## I want to pick the largest value on the confusion matrix not on the diagonal\n",
        "confusing_part_matrix= np.array(confusion_matrix)-np.identity(confusion_matrix.shape[0])*np.diag(confusion_matrix)\n",
        "\n",
        "confusing_part_matrix = tf.convert_to_tensor(confusing_part_matrix)\n",
        "\n",
        "f, ax = plt.subplots(figsize=(9, 7))\n",
        "sn.heatmap(\n",
        "    confusing_part_matrix,\n",
        "    annot=True,\n",
        "    linewidths=.5\n",
        "    #,fmt=\"d\"\n",
        "    #,square=True\n",
        "    #,ax=ax\n",
        ")\n",
        "plt.show()\n",
        "\n",
        "\n",
        "## find the max value of those remaining numbers\n",
        "thisnumber=np.max(confusing_part_matrix)\n",
        "\n",
        "x_thisnumber=np.argmax(confusing_part_matrix,axis=0)\n",
        "y_thisnumber=np.argmax(confusing_part_matrix,axis=1)\n",
        "z_thisnumber=np.argmax(confusing_part_matrix)\n",
        "display(x_thisnumber,y_thisnumber)\n",
        "#print(\"The worst the algorithm did is between \" confus)\n",
        " "
      ],
      "execution_count": 11,
      "outputs": [
        {
          "output_type": "display_data",
          "data": {
            "image/png": "[encoded data removed]",
            "text/plain": [
              "<Figure size 648x504 with 2 Axes>"
            ]
          },
          "metadata": {
            "needs_background": "light"
          }
        },
        {
          "output_type": "display_data",
          "data": {
            "text/plain": [
              "array([6, 3, 6, 1, 2, 7, 0, 5, 0, 7])"
            ]
          },
          "metadata": {}
        },
        {
          "output_type": "display_data",
          "data": {
            "text/plain": [
              "array([6, 3, 4, 6, 2, 7, 2, 9, 2, 7])"
            ]
          },
          "metadata": {}
        }
      ]
    },
    {
      "cell_type": "code",
      "metadata": {
        "id": "WhozCsi1MjMD"
      },
      "source": [
        "\n",
        "LABEL_NAMES = ['t_shirt', 'trouser', 'pullover', 'dress', 'coat', 'sandal', 'shirt', 'sneaker', 'bag', 'ankle_boots']\n",
        "\n",
        "delta = predictions - y_test\n",
        "\n",
        "wrong = tf.boolean_mask(predictions, delta)\n",
        "print(wrong)\n",
        "\n",
        "#  if i != 0\n",
        "#    display(\"Prediction \", i, \" is \" + LABEL_NAMES[predictions[i]], \"but it is \",  LABEL_NAMES[y_test[i] )\n"
      ],
      "execution_count": null,
      "outputs": []
    },
    {
      "cell_type": "code",
      "metadata": {
        "colab": {
          "base_uri": "https://localhost:8080/"
        },
        "id": "ZT4qB3nZ2WwB",
        "outputId": "fa0d7aef-6699-47d7-f555-87c93b895116"
      },
      "source": [
        "confusing_part_matrix[0]"
      ],
      "execution_count": 12,
      "outputs": [
        {
          "output_type": "execute_result",
          "data": {
            "text/plain": [
              "<tf.Tensor: shape=(10,), dtype=float64, numpy=array([  0.,   2.,  43.,  40.,  11.,   7., 109.,   0.,  18.,   0.])>"
            ]
          },
          "metadata": {},
          "execution_count": 12
        }
      ]
    },
    {
      "cell_type": "code",
      "metadata": {
        "id": "Uo0qd0Wy5jmT",
        "colab": {
          "base_uri": "https://localhost:8080/",
          "height": 252
        },
        "outputId": "77023eaa-cb0a-4206-f6b8-e53a44e50031"
      },
      "source": [
        "z_thisnumber=np.argmax(confusing_part_matrix)\n",
        "z_thisnumber\n",
        "print(\"So the most confused classes were between: \" , np.math.floor(z_thisnumber/10), \" a\",  LABEL_NAMES[np.math.floor(z_thisnumber/10)] , \" and  \", z_thisnumber%10, \" a \",  \n",
        "LABEL_NAMES[z_thisnumber%10])\n",
        "\n"
      ],
      "execution_count": 13,
      "outputs": [
        {
          "output_type": "error",
          "ename": "NameError",
          "evalue": "ignored",
          "traceback": [
            "\u001b[0;31m---------------------------------------------------------------------------\u001b[0m",
            "\u001b[0;31mNameError\u001b[0m                                 Traceback (most recent call last)",
            "\u001b[0;32m<ipython-input-13-fb86b82b5e8d>\u001b[0m in \u001b[0;36m<module>\u001b[0;34m()\u001b[0m\n\u001b[1;32m      1\u001b[0m \u001b[0mz_thisnumber\u001b[0m\u001b[0;34m=\u001b[0m\u001b[0mnp\u001b[0m\u001b[0;34m.\u001b[0m\u001b[0margmax\u001b[0m\u001b[0;34m(\u001b[0m\u001b[0mconfusing_part_matrix\u001b[0m\u001b[0;34m)\u001b[0m\u001b[0;34m\u001b[0m\u001b[0;34m\u001b[0m\u001b[0m\n\u001b[1;32m      2\u001b[0m \u001b[0mz_thisnumber\u001b[0m\u001b[0;34m\u001b[0m\u001b[0;34m\u001b[0m\u001b[0m\n\u001b[0;32m----> 3\u001b[0;31m print(\"So the most confused classes were between: \" , np.math.floor(z_thisnumber/10), \" a\",  LABEL_NAMES[np.math.floor(z_thisnumber/10)] , \" and  \", z_thisnumber%10, \" a \",  \n\u001b[0m\u001b[1;32m      4\u001b[0m LABEL_NAMES[z_thisnumber%10])\n\u001b[1;32m      5\u001b[0m \u001b[0;34m\u001b[0m\u001b[0m\n",
            "\u001b[0;31mNameError\u001b[0m: name 'LABEL_NAMES' is not defined"
          ]
        }
      ]
    },
    {
      "cell_type": "markdown",
      "metadata": {
        "id": "V3V0jrX_Mmxl"
      },
      "source": [
        ""
      ]
    },
    {
      "cell_type": "code",
      "metadata": {
        "id": "9K24O6nCMnPP"
      },
      "source": [
        "plt.imshow(x_test[0].reshape((28,28)), cmap=plt.cm.binary)\n",
        "plt.show()"
      ],
      "execution_count": null,
      "outputs": []
    }
  ]
}