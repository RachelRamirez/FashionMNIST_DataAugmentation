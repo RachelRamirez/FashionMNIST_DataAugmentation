{
  "nbformat": 4,
  "nbformat_minor": 0,
  "metadata": {
    "colab": {
      "name": "Fashion mnist_convnet",
      "provenance": [],
      "collapsed_sections": [],
      "include_colab_link": true
    },
    "kernelspec": {
      "display_name": "Python 3",
      "language": "python",
      "name": "python3"
    },
    "language_info": {
      "codemirror_mode": {
        "name": "ipython",
        "version": 3
      },
      "file_extension": ".py",
      "mimetype": "text/x-python",
      "name": "python",
      "nbconvert_exporter": "python",
      "pygments_lexer": "ipython3",
      "version": "3.7.0"
    }
  },
  "cells": [
    {
      "cell_type": "markdown",
      "metadata": {
        "id": "view-in-github",
        "colab_type": "text"
      },
      "source": [
        "<a href=\"https://colab.research.google.com/github/RachelRamirez/FashionMNIST_DataAugmentation/blob/main/Fashion_mnist_convnet.ipynb\" target=\"_parent\"><img src=\"https://colab.research.google.com/assets/colab-badge.svg\" alt=\"Open In Colab\"/></a>"
      ]
    },
    {
      "cell_type": "markdown",
      "metadata": {
        "id": "3tLeuxPfOUwh"
      },
      "source": [
        "# \"Simple (Fashion) MNIST convnet\" Architecture with Extremely Limited Data used to Train CNN\n",
        "\n",
        "**Original Author with MNIST:** [fchollet](https://twitter.com/fchollet)<br>\n",
        "Date created: 2015/06/19<br>\n",
        "\n",
        "**Modified Author Applied to Fashion MNIST** [rachelramirez](https://github.com/RachelRamirez/FashionMNIST_DataAugmentation) 2021/08/25\n",
        "\n",
        "**Description:** A simple convnet architecture for training on Fashion MNIST.\n",
        "\n",
        "Then data is limited to varying levels of restriction [500, 1000]  to view the effect of data augmentation on increasing model accuracy.\n",
        "\n",
        "More features are added for residual/error analysis such as confusion matrix and data augmentation."
      ]
    },
    {
      "cell_type": "code",
      "metadata": {
        "id": "SGvYofsKOUwo"
      },
      "source": [
        "import numpy as np\n",
        "from tensorflow import keras\n",
        "from tensorflow.keras import layers\n",
        "import tensorflow as tf\n",
        "import matplotlib.pyplot as plt\n",
        "import seaborn as sn\n",
        "from google.colab import files\n",
        "\n",
        "\n"
      ],
      "execution_count": 18,
      "outputs": []
    },
    {
      "cell_type": "markdown",
      "metadata": {
        "id": "zpKcttwnrTnT"
      },
      "source": [
        "# Experiment"
      ]
    },
    {
      "cell_type": "markdown",
      "metadata": {
        "id": "JJfFyadErbBf"
      },
      "source": [
        "The first part of this experiment is looking at the space for *TrainingSize*, *ValidationSize*, *BatchSize*, and *EpochSize*.  These all likely effect one another (4-way interactions) so a DOE design is used to look at Response Surface Methods.\n",
        "\n",
        "A: BatchSize (10, 100)\n",
        "\n",
        "B: Epochs  (15, 50)\n",
        "\n",
        "C: Training Size (Count)  (100, 1000)\n",
        "\n",
        "D: Validation (as percentage of Training Size)  (20%, 50%) \n",
        "\n",
        "Replicates: 2\n",
        "Center Points: 1"
      ]
    },
    {
      "cell_type": "code",
      "metadata": {
        "id": "dqEfqqnXr9Ji"
      },
      "source": [
        "## Experiment 1 'Global' Variables\n",
        "\n",
        "var_BatchSize =  10,  35, 50, 100\n",
        "var_Epochs =     15,  30, 50, 70\n",
        "var_TrainSize = 100, 505,  1000\n",
        "var_ValPercent = 0.2, 0.3, 0.5\n",
        "\n",
        "\n",
        "# var_BatchSize =  10\n",
        "# var_Epochs =     15\n",
        "# var_TrainSize = 100\n",
        "# var_ValPercent = 0.2\n",
        "\n",
        " "
      ],
      "execution_count": 19,
      "outputs": []
    },
    {
      "cell_type": "markdown",
      "metadata": {
        "id": "R5UJ4XGxOUwp"
      },
      "source": [
        "## Prepare the data"
      ]
    },
    {
      "cell_type": "code",
      "metadata": {
        "id": "nW6G-5CNOUwq",
        "colab": {
          "base_uri": "https://localhost:8080/"
        },
        "outputId": "30a93fe3-5afa-472f-f53d-7330c0288d00"
      },
      "source": [
        "# Model / data parameters\n",
        "num_classes = 10\n",
        "input_shape = (28, 28, 1)\n",
        "\n",
        "# the data, split between train and test sets\n",
        "(x_train, y_train), (x_test, y_test) = keras.datasets.fashion_mnist.load_data()\n",
        "\n",
        "x_train = x_train[1000:2000]\n",
        "y_train = y_train[1000:2000]\n",
        "\n",
        "# Scale images to the [0, 1] range\n",
        "x_train = x_train.astype(\"float32\") / 255\n",
        "x_test = x_test.astype(\"float32\") / 255\n",
        "# Make sure images have shape (28, 28, 1)\n",
        "x_train = np.expand_dims(x_train, -1)\n",
        "x_test = np.expand_dims(x_test, -1)\n",
        "print(\"x_train shape:\", x_train.shape)\n",
        "print(x_train.shape[0], \"train samples\")\n",
        "print(x_test.shape[0], \"test samples\")\n",
        "\n",
        "\n",
        "# convert class vectors to binary class matrices\n",
        "y_train = keras.utils.to_categorical(y_train, num_classes)\n",
        "y_test = keras.utils.to_categorical(y_test, num_classes)"
      ],
      "execution_count": 20,
      "outputs": [
        {
          "output_type": "stream",
          "text": [
            "x_train shape: (1000, 28, 28, 1)\n",
            "1000 train samples\n",
            "10000 test samples\n"
          ],
          "name": "stdout"
        }
      ]
    },
    {
      "cell_type": "markdown",
      "metadata": {
        "id": "j3J-NWLSOUwr"
      },
      "source": [
        "## Build the model"
      ]
    },
    {
      "cell_type": "code",
      "metadata": {
        "id": "7MEHlGkLOUwt",
        "colab": {
          "base_uri": "https://localhost:8080/"
        },
        "outputId": "f037703d-9849-41c4-c5a1-894971b50c15"
      },
      "source": [
        "model = keras.Sequential(\n",
        "    [\n",
        "        keras.Input(shape=input_shape),\n",
        "        layers.Conv2D(32, kernel_size=(3, 3), activation=\"relu\"),\n",
        "        layers.MaxPooling2D(pool_size=(2, 2)),\n",
        "        layers.Conv2D(64, kernel_size=(3, 3), activation=\"relu\"),\n",
        "        layers.MaxPooling2D(pool_size=(2, 2)),\n",
        "        layers.Flatten(),\n",
        "        layers.Dropout(0.5),\n",
        "        layers.Dense(num_classes, activation=\"softmax\"),\n",
        "    ]\n",
        ")\n",
        "\n",
        "model.summary()"
      ],
      "execution_count": 21,
      "outputs": [
        {
          "output_type": "stream",
          "text": [
            "Model: \"sequential_1\"\n",
            "_________________________________________________________________\n",
            "Layer (type)                 Output Shape              Param #   \n",
            "=================================================================\n",
            "conv2d_2 (Conv2D)            (None, 26, 26, 32)        320       \n",
            "_________________________________________________________________\n",
            "max_pooling2d_2 (MaxPooling2 (None, 13, 13, 32)        0         \n",
            "_________________________________________________________________\n",
            "conv2d_3 (Conv2D)            (None, 11, 11, 64)        18496     \n",
            "_________________________________________________________________\n",
            "max_pooling2d_3 (MaxPooling2 (None, 5, 5, 64)          0         \n",
            "_________________________________________________________________\n",
            "flatten_1 (Flatten)          (None, 1600)              0         \n",
            "_________________________________________________________________\n",
            "dropout_1 (Dropout)          (None, 1600)              0         \n",
            "_________________________________________________________________\n",
            "dense_1 (Dense)              (None, 10)                16010     \n",
            "=================================================================\n",
            "Total params: 34,826\n",
            "Trainable params: 34,826\n",
            "Non-trainable params: 0\n",
            "_________________________________________________________________\n"
          ],
          "name": "stdout"
        }
      ]
    },
    {
      "cell_type": "markdown",
      "metadata": {
        "id": "9mLvi5vnOUww"
      },
      "source": [
        "# Insert DOE Variables -> Train Model"
      ]
    },
    {
      "cell_type": "code",
      "metadata": {
        "id": "rJbHvwogyjG3"
      },
      "source": [
        "# scorelist = []\n",
        "# for b in var_BatchSize:\n",
        "#   for e in var_Epochs:\n",
        "#      for t in var_TrainSize:\n",
        "#        for v in var_ValPercent:\n",
        "#           scorelist += [[b,e,t,v, 100, \"   \" ]]\n",
        "\n",
        "\n",
        "\n",
        "# display(scorelist)"
      ],
      "execution_count": 22,
      "outputs": []
    },
    {
      "cell_type": "markdown",
      "metadata": {
        "id": "7UbYwOVJv7GQ"
      },
      "source": [
        "## Train the model"
      ]
    },
    {
      "cell_type": "code",
      "metadata": {
        "colab": {
          "base_uri": "https://localhost:8080/"
        },
        "id": "_gfBEyf9v7GS",
        "outputId": "6493d108-c7dd-4df6-cf39-c8013b0fb4eb"
      },
      "source": [
        "%%time\n",
        "\n",
        "counter = 1\n",
        "scorelist = []\n",
        "\n",
        "\n",
        "model.compile(loss=\"categorical_crossentropy\", optimizer=\"adam\", metrics=[\"accuracy\"])\n",
        " ## Save Weight is to help Reset the model before Training, very important, otherwise you get better results every run!\n",
        "model.save_weights('model.h5') \n",
        "\n",
        "for t in var_TrainSize:\n",
        "  # I did this to make sure I wasn't cutting down the size of train each time I reran\n",
        "  new_x_train = x_train[0:t]  \n",
        "  new_y_train = y_train[0:t]\n",
        "\n",
        "  for b in var_BatchSize:\n",
        "    for e in var_Epochs:\n",
        "       for v in var_ValPercent:\n",
        "        \n",
        "        batch_size = b\n",
        "        epochs = e\n",
        "\n",
        "\n",
        "        model.compile(loss=\"categorical_crossentropy\", optimizer=\"adam\", metrics=[\"accuracy\"])\n",
        "        model.load_weights('model.h5')\n",
        "\n",
        "        # Verbose  = 0 after I verified everything was working to improve overall speed\n",
        "        model.fit(new_x_train, new_y_train, batch_size=b, epochs=e, validation_split=v, verbose=0)\n",
        "\n",
        "        score = model.evaluate(x_test, y_test, verbose=0)\n",
        "        # print(\"Test loss:\", score[0])\n",
        "        # print(\"Test accuracy:\", score[1])\n",
        "        scorelist += [ [counter, b,  e,    t,   v,   score[0], score[1]] ]\n",
        "        print(\"This is run\", counter, \": \", b, e, t, v,  \"had accuracy: \", score[1], \" test loss: \", score[0])\n",
        "        counter=counter+1\n",
        "\n",
        "#save scorelist as a csv file\n",
        "np.savetxt('data2.csv', scorelist, delimiter=',')\n"
      ],
      "execution_count": 23,
      "outputs": [
        {
          "output_type": "stream",
          "text": [
            "This is run 1 :  10 15 100 0.2 had accuracy:  0.6647999882698059  test loss:  0.9356628656387329\n",
            "This is run 2 :  10 15 100 0.3 had accuracy:  0.6489999890327454  test loss:  1.1097660064697266\n",
            "This is run 3 :  10 15 100 0.5 had accuracy:  0.6003000140190125  test loss:  1.1513601541519165\n",
            "This is run 4 :  10 30 100 0.2 had accuracy:  0.6862999796867371  test loss:  1.0244140625\n",
            "This is run 5 :  10 30 100 0.3 had accuracy:  0.6624000072479248  test loss:  1.268257737159729\n",
            "This is run 6 :  10 30 100 0.5 had accuracy:  0.6105999946594238  test loss:  1.1986651420593262\n",
            "This is run 7 :  10 50 100 0.2 had accuracy:  0.6919999718666077  test loss:  1.1590423583984375\n",
            "This is run 8 :  10 50 100 0.3 had accuracy:  0.6678000092506409  test loss:  1.3343836069107056\n",
            "This is run 9 :  10 50 100 0.5 had accuracy:  0.6187000274658203  test loss:  1.291443109512329\n",
            "This is run 10 :  10 70 100 0.2 had accuracy:  0.689300000667572  test loss:  1.2785826921463013\n",
            "This is run 11 :  10 70 100 0.3 had accuracy:  0.6642000079154968  test loss:  1.5086042881011963\n",
            "This is run 12 :  10 70 100 0.5 had accuracy:  0.6280999779701233  test loss:  1.4125216007232666\n",
            "This is run 13 :  35 15 100 0.2 had accuracy:  0.5684999823570251  test loss:  1.2061656713485718\n",
            "This is run 14 :  35 15 100 0.3 had accuracy:  0.5342000126838684  test loss:  1.3267403841018677\n",
            "This is run 15 :  35 15 100 0.5 had accuracy:  0.5026999711990356  test loss:  1.5445637702941895\n",
            "This is run 16 :  35 30 100 0.2 had accuracy:  0.6477000117301941  test loss:  1.0112208127975464\n",
            "This is run 17 :  35 30 100 0.3 had accuracy:  0.6284999847412109  test loss:  1.148751974105835\n",
            "This is run 18 :  35 30 100 0.5 had accuracy:  0.5889999866485596  test loss:  1.1466645002365112\n",
            "This is run 19 :  35 50 100 0.2 had accuracy:  0.6863999962806702  test loss:  1.0020192861557007\n",
            "This is run 20 :  35 50 100 0.3 had accuracy:  0.6625000238418579  test loss:  1.1541389226913452\n",
            "This is run 21 :  35 50 100 0.5 had accuracy:  0.6190999746322632  test loss:  1.20068359375\n",
            "This is run 22 :  35 70 100 0.2 had accuracy:  0.685699999332428  test loss:  1.0781198740005493\n",
            "This is run 23 :  35 70 100 0.3 had accuracy:  0.6761999726295471  test loss:  1.1610760688781738\n",
            "This is run 24 :  35 70 100 0.5 had accuracy:  0.6328999996185303  test loss:  1.2505289316177368\n",
            "This is run 25 :  50 15 100 0.2 had accuracy:  0.5856999754905701  test loss:  1.264108419418335\n",
            "This is run 26 :  50 15 100 0.3 had accuracy:  0.5462999939918518  test loss:  1.3823562860488892\n",
            "This is run 27 :  50 15 100 0.5 had accuracy:  0.3336000144481659  test loss:  1.946536898612976\n",
            "This is run 28 :  50 30 100 0.2 had accuracy:  0.6470999717712402  test loss:  1.001692295074463\n",
            "This is run 29 :  50 30 100 0.3 had accuracy:  0.6111000180244446  test loss:  1.121717929840088\n",
            "This is run 30 :  50 30 100 0.5 had accuracy:  0.5472999811172485  test loss:  1.2839298248291016\n",
            "This is run 31 :  50 50 100 0.2 had accuracy:  0.6740000247955322  test loss:  1.0213398933410645\n",
            "This is run 32 :  50 50 100 0.3 had accuracy:  0.6653000116348267  test loss:  1.1287262439727783\n",
            "This is run 33 :  50 50 100 0.5 had accuracy:  0.5899999737739563  test loss:  1.202802300453186\n",
            "This is run 34 :  50 70 100 0.2 had accuracy:  0.7002000212669373  test loss:  1.01811683177948\n",
            "This is run 35 :  50 70 100 0.3 had accuracy:  0.6687999963760376  test loss:  1.217947244644165\n",
            "This is run 36 :  50 70 100 0.5 had accuracy:  0.6122999787330627  test loss:  1.1648849248886108\n",
            "This is run 37 :  100 15 100 0.2 had accuracy:  0.3822000026702881  test loss:  1.8064842224121094\n",
            "This is run 38 :  100 15 100 0.3 had accuracy:  0.37049999833106995  test loss:  1.8985042572021484\n",
            "This is run 39 :  100 15 100 0.5 had accuracy:  0.32919999957084656  test loss:  1.9395134449005127\n",
            "This is run 40 :  100 30 100 0.2 had accuracy:  0.6018999814987183  test loss:  1.1303317546844482\n",
            "This is run 41 :  100 30 100 0.3 had accuracy:  0.5927000045776367  test loss:  1.2063478231430054\n",
            "This is run 42 :  100 30 100 0.5 had accuracy:  0.5436000227928162  test loss:  1.278468370437622\n",
            "This is run 43 :  100 50 100 0.2 had accuracy:  0.6546000242233276  test loss:  1.0088845491409302\n",
            "This is run 44 :  100 50 100 0.3 had accuracy:  0.633899986743927  test loss:  1.1856297254562378\n",
            "This is run 45 :  100 50 100 0.5 had accuracy:  0.605400025844574  test loss:  1.1567089557647705\n",
            "This is run 46 :  100 70 100 0.2 had accuracy:  0.6761999726295471  test loss:  1.0108586549758911\n",
            "This is run 47 :  100 70 100 0.3 had accuracy:  0.659600019454956  test loss:  1.1681153774261475\n",
            "This is run 48 :  100 70 100 0.5 had accuracy:  0.620199978351593  test loss:  1.183786392211914\n",
            "This is run 49 :  10 15 505 0.2 had accuracy:  0.724399983882904  test loss:  0.761726438999176\n",
            "This is run 50 :  10 15 505 0.3 had accuracy:  0.7459999918937683  test loss:  0.7017845511436462\n",
            "This is run 51 :  10 15 505 0.5 had accuracy:  0.7376999855041504  test loss:  0.7190579771995544\n",
            "This is run 52 :  10 30 505 0.2 had accuracy:  0.7572000026702881  test loss:  0.7868317365646362\n",
            "This is run 53 :  10 30 505 0.3 had accuracy:  0.7644000053405762  test loss:  0.7333654165267944\n",
            "This is run 54 :  10 30 505 0.5 had accuracy:  0.7527999877929688  test loss:  0.7498602271080017\n",
            "This is run 55 :  10 50 505 0.2 had accuracy:  0.7739999890327454  test loss:  0.8453525304794312\n",
            "This is run 56 :  10 50 505 0.3 had accuracy:  0.7631999850273132  test loss:  0.8930729627609253\n",
            "This is run 57 :  10 50 505 0.5 had accuracy:  0.7566999793052673  test loss:  0.9070917963981628\n",
            "This is run 58 :  10 70 505 0.2 had accuracy:  0.777899980545044  test loss:  0.9140100479125977\n",
            "This is run 59 :  10 70 505 0.3 had accuracy:  0.7718999981880188  test loss:  1.0074211359024048\n",
            "This is run 60 :  10 70 505 0.5 had accuracy:  0.7612000107765198  test loss:  0.9895516633987427\n",
            "This is run 61 :  35 15 505 0.2 had accuracy:  0.7441999912261963  test loss:  0.6946633458137512\n",
            "This is run 62 :  35 15 505 0.3 had accuracy:  0.7426000237464905  test loss:  0.7177820205688477\n",
            "This is run 63 :  35 15 505 0.5 had accuracy:  0.7228000164031982  test loss:  0.7482589483261108\n",
            "This is run 64 :  35 30 505 0.2 had accuracy:  0.767799973487854  test loss:  0.6418610215187073\n",
            "This is run 65 :  35 30 505 0.3 had accuracy:  0.760200023651123  test loss:  0.6605073809623718\n",
            "This is run 66 :  35 30 505 0.5 had accuracy:  0.7427999973297119  test loss:  0.7193645238876343\n",
            "This is run 67 :  35 50 505 0.2 had accuracy:  0.7745000123977661  test loss:  0.6963219046592712\n",
            "This is run 68 :  35 50 505 0.3 had accuracy:  0.7649999856948853  test loss:  0.691002368927002\n",
            "This is run 69 :  35 50 505 0.5 had accuracy:  0.7501000165939331  test loss:  0.7356536984443665\n",
            "This is run 70 :  35 70 505 0.2 had accuracy:  0.7760999798774719  test loss:  0.7861523628234863\n",
            "This is run 71 :  35 70 505 0.3 had accuracy:  0.765999972820282  test loss:  0.7258280515670776\n",
            "This is run 72 :  35 70 505 0.5 had accuracy:  0.7585999965667725  test loss:  0.7742836475372314\n",
            "This is run 73 :  50 15 505 0.2 had accuracy:  0.7300000190734863  test loss:  0.7477380037307739\n",
            "This is run 74 :  50 15 505 0.3 had accuracy:  0.7184000015258789  test loss:  0.7780613899230957\n",
            "This is run 75 :  50 15 505 0.5 had accuracy:  0.6922000050544739  test loss:  0.8334999084472656\n",
            "This is run 76 :  50 30 505 0.2 had accuracy:  0.7559000253677368  test loss:  0.6665669083595276\n",
            "This is run 77 :  50 30 505 0.3 had accuracy:  0.7437999844551086  test loss:  0.6970277428627014\n",
            "This is run 78 :  50 30 505 0.5 had accuracy:  0.6866999864578247  test loss:  0.8790102601051331\n",
            "This is run 79 :  50 50 505 0.2 had accuracy:  0.7670999765396118  test loss:  0.6643578410148621\n",
            "This is run 80 :  50 50 505 0.3 had accuracy:  0.7617999911308289  test loss:  0.6659209728240967\n",
            "This is run 81 :  50 50 505 0.5 had accuracy:  0.741100013256073  test loss:  0.7041314244270325\n",
            "This is run 82 :  50 70 505 0.2 had accuracy:  0.7727000117301941  test loss:  0.6929260492324829\n",
            "This is run 83 :  50 70 505 0.3 had accuracy:  0.7651000022888184  test loss:  0.6931149363517761\n",
            "This is run 84 :  50 70 505 0.5 had accuracy:  0.7300999760627747  test loss:  0.7719330787658691\n",
            "This is run 85 :  100 15 505 0.2 had accuracy:  0.7106000185012817  test loss:  0.841269314289093\n",
            "This is run 86 :  100 15 505 0.3 had accuracy:  0.7163000106811523  test loss:  0.8116214275360107\n",
            "This is run 87 :  100 15 505 0.5 had accuracy:  0.6715999841690063  test loss:  0.8662078380584717\n",
            "This is run 88 :  100 30 505 0.2 had accuracy:  0.7318999767303467  test loss:  0.7246039509773254\n",
            "This is run 89 :  100 30 505 0.3 had accuracy:  0.7354999780654907  test loss:  0.723720908164978\n",
            "This is run 90 :  100 30 505 0.5 had accuracy:  0.7268000245094299  test loss:  0.7471441626548767\n",
            "This is run 91 :  100 50 505 0.2 had accuracy:  0.7340999841690063  test loss:  0.6998224854469299\n",
            "This is run 92 :  100 50 505 0.3 had accuracy:  0.7585999965667725  test loss:  0.6763709187507629\n",
            "This is run 93 :  100 50 505 0.5 had accuracy:  0.7487999796867371  test loss:  0.6914224624633789\n",
            "This is run 94 :  100 70 505 0.2 had accuracy:  0.7609000205993652  test loss:  0.6450953483581543\n",
            "This is run 95 :  100 70 505 0.3 had accuracy:  0.7663999795913696  test loss:  0.6851169466972351\n",
            "This is run 96 :  100 70 505 0.5 had accuracy:  0.7454000115394592  test loss:  0.723699688911438\n",
            "This is run 97 :  10 15 1000 0.2 had accuracy:  0.7954999804496765  test loss:  0.5667851567268372\n",
            "This is run 98 :  10 15 1000 0.3 had accuracy:  0.7876999974250793  test loss:  0.5935159921646118\n",
            "This is run 99 :  10 15 1000 0.5 had accuracy:  0.7692999839782715  test loss:  0.6286835670471191\n",
            "This is run 100 :  10 30 1000 0.2 had accuracy:  0.8098999857902527  test loss:  0.5974217653274536\n",
            "This is run 101 :  10 30 1000 0.3 had accuracy:  0.7973999977111816  test loss:  0.6280083656311035\n",
            "This is run 102 :  10 30 1000 0.5 had accuracy:  0.7922999858856201  test loss:  0.6391782760620117\n",
            "This is run 103 :  10 50 1000 0.2 had accuracy:  0.8087000250816345  test loss:  0.7320336699485779\n",
            "This is run 104 :  10 50 1000 0.3 had accuracy:  0.8004000186920166  test loss:  0.725206732749939\n",
            "This is run 105 :  10 50 1000 0.5 had accuracy:  0.7858999967575073  test loss:  0.7340769171714783\n",
            "This is run 106 :  10 70 1000 0.2 had accuracy:  0.8152999877929688  test loss:  0.7578228116035461\n",
            "This is run 107 :  10 70 1000 0.3 had accuracy:  0.8065999746322632  test loss:  0.8796136975288391\n",
            "This is run 108 :  10 70 1000 0.5 had accuracy:  0.7897999882698059  test loss:  0.8751676678657532\n",
            "This is run 109 :  35 15 1000 0.2 had accuracy:  0.7771000266075134  test loss:  0.6042633652687073\n",
            "This is run 110 :  35 15 1000 0.3 had accuracy:  0.7748000025749207  test loss:  0.6209127306938171\n",
            "This is run 111 :  35 15 1000 0.5 had accuracy:  0.7639999985694885  test loss:  0.6307679414749146\n",
            "This is run 112 :  35 30 1000 0.2 had accuracy:  0.8033000230789185  test loss:  0.5649580955505371\n",
            "This is run 113 :  35 30 1000 0.3 had accuracy:  0.7929999828338623  test loss:  0.5861033797264099\n",
            "This is run 114 :  35 30 1000 0.5 had accuracy:  0.7789999842643738  test loss:  0.6087667942047119\n",
            "This is run 115 :  35 50 1000 0.2 had accuracy:  0.8083000183105469  test loss:  0.5869928002357483\n",
            "This is run 116 :  35 50 1000 0.3 had accuracy:  0.7985000014305115  test loss:  0.6117641925811768\n",
            "This is run 117 :  35 50 1000 0.5 had accuracy:  0.7749000191688538  test loss:  0.6853528618812561\n",
            "This is run 118 :  35 70 1000 0.2 had accuracy:  0.8075000047683716  test loss:  0.6567320823669434\n",
            "This is run 119 :  35 70 1000 0.3 had accuracy:  0.794700026512146  test loss:  0.6925414800643921\n",
            "This is run 120 :  35 70 1000 0.5 had accuracy:  0.7843000292778015  test loss:  0.7167127728462219\n",
            "This is run 121 :  50 15 1000 0.2 had accuracy:  0.7713000178337097  test loss:  0.6153711676597595\n",
            "This is run 122 :  50 15 1000 0.3 had accuracy:  0.7554000020027161  test loss:  0.657828152179718\n",
            "This is run 123 :  50 15 1000 0.5 had accuracy:  0.7498999834060669  test loss:  0.6789550185203552\n",
            "This is run 124 :  50 30 1000 0.2 had accuracy:  0.7994999885559082  test loss:  0.5555063486099243\n",
            "This is run 125 :  50 30 1000 0.3 had accuracy:  0.7861999869346619  test loss:  0.5819865465164185\n",
            "This is run 126 :  50 30 1000 0.5 had accuracy:  0.776199996471405  test loss:  0.6136616468429565\n",
            "This is run 127 :  50 50 1000 0.2 had accuracy:  0.8070999979972839  test loss:  0.5844113826751709\n",
            "This is run 128 :  50 50 1000 0.3 had accuracy:  0.7982000112533569  test loss:  0.5997437238693237\n",
            "This is run 129 :  50 50 1000 0.5 had accuracy:  0.7813000082969666  test loss:  0.6428839564323425\n",
            "This is run 130 :  50 70 1000 0.2 had accuracy:  0.8098000288009644  test loss:  0.6291993856430054\n",
            "This is run 131 :  50 70 1000 0.3 had accuracy:  0.8027999997138977  test loss:  0.6438367962837219\n",
            "This is run 132 :  50 70 1000 0.5 had accuracy:  0.7900999784469604  test loss:  0.6702006459236145\n",
            "This is run 133 :  100 15 1000 0.2 had accuracy:  0.7519999742507935  test loss:  0.6730175614356995\n",
            "This is run 134 :  100 15 1000 0.3 had accuracy:  0.7512000203132629  test loss:  0.6756559014320374\n",
            "This is run 135 :  100 15 1000 0.5 had accuracy:  0.7276999950408936  test loss:  0.7611871361732483\n",
            "This is run 136 :  100 30 1000 0.2 had accuracy:  0.7900000214576721  test loss:  0.5783125162124634\n",
            "This is run 137 :  100 30 1000 0.3 had accuracy:  0.7750999927520752  test loss:  0.6091756224632263\n",
            "This is run 138 :  100 30 1000 0.5 had accuracy:  0.7605000138282776  test loss:  0.635396420955658\n",
            "This is run 139 :  100 50 1000 0.2 had accuracy:  0.7990999817848206  test loss:  0.5627724528312683\n",
            "This is run 140 :  100 50 1000 0.3 had accuracy:  0.7930999994277954  test loss:  0.5860199928283691\n",
            "This is run 141 :  100 50 1000 0.5 had accuracy:  0.7803000211715698  test loss:  0.6053491234779358\n",
            "This is run 142 :  100 70 1000 0.2 had accuracy:  0.8065000176429749  test loss:  0.563610315322876\n",
            "This is run 143 :  100 70 1000 0.3 had accuracy:  0.7976999878883362  test loss:  0.5993384718894958\n",
            "This is run 144 :  100 70 1000 0.5 had accuracy:  0.7882999777793884  test loss:  0.6176139116287231\n",
            "CPU times: user 1h 10min 52s, sys: 3min 11s, total: 1h 14min 4s\n",
            "Wall time: 44min 8s\n"
          ],
          "name": "stdout"
        }
      ]
    },
    {
      "cell_type": "code",
      "metadata": {
        "id": "wwGJ493w15x9"
      },
      "source": [
        "#save file to my personal computer so I don't lose it to google colab timeout\n",
        "\n",
        "#why isn't this working?! :-( \n",
        "#files.download('data.csv') "
      ],
      "execution_count": 24,
      "outputs": []
    },
    {
      "cell_type": "code",
      "metadata": {
        "id": "44kD7Vn6OUwy"
      },
      "source": [
        "# batch_size = 50\n",
        "# epochs = 30\n",
        "\n",
        "# model.compile(loss=\"categorical_crossentropy\", optimizer=\"adam\", metrics=[\"accuracy\"])\n",
        "\n",
        "# model.fit(x_train, y_train, batch_size=batch_size, epochs=epochs, validation_split=0.5)"
      ],
      "execution_count": 25,
      "outputs": []
    },
    {
      "cell_type": "markdown",
      "metadata": {
        "id": "f_OXslKCOUw0"
      },
      "source": [
        "## Evaluate the trained model"
      ]
    },
    {
      "cell_type": "code",
      "metadata": {
        "id": "BD9T7nz9OUw1"
      },
      "source": [
        "          # score = model.evaluate(x_test, y_test, verbose=1)\n",
        "          # print(\"Test loss:\", score[0])\n",
        "          # print(\"Test accuracy:\", score[1])"
      ],
      "execution_count": 26,
      "outputs": []
    },
    {
      "cell_type": "code",
      "metadata": {
        "colab": {
          "base_uri": "https://localhost:8080/",
          "height": 428
        },
        "id": "DyqgW4Qyn3y5",
        "outputId": "5e7b1537-e6dc-4dca-d4de-c668d62dc0fc"
      },
      "source": [
        "predictions = model.predict(x_test)\n",
        "predictions = np.argmax(predictions, axis=1)\n",
        " \n",
        "y_test = np.argmax(y_test, axis=1) \n",
        "\n",
        "confusion_matrix = tf.math.confusion_matrix(y_test, predictions)  #First Variable is on VERTICAL, second Variable is on X HORIZONTAL\n",
        "#confusion_matrix = tf.math.confusion_matrix(predictions, tf.Variable(np.ones(predictions.shape)))\n",
        "\n",
        "f, ax = plt.subplots(figsize=(9, 7))\n",
        "sn.heatmap(\n",
        "    confusion_matrix,\n",
        "    annot=True,\n",
        "    linewidths=.5,\n",
        "    fmt=\"d\",\n",
        "    square=True,\n",
        "    ax=ax\n",
        ")\n",
        "plt.show()\n"
      ],
      "execution_count": 27,
      "outputs": [
        {
          "output_type": "display_data",
          "data": {
            "image/png": "[encoded data removed]",
            "text/plain": [
              "<Figure size 648x504 with 2 Axes>"
            ]
          },
          "metadata": {
            "needs_background": "light"
          }
        }
      ]
    },
    {
      "cell_type": "markdown",
      "metadata": {
        "id": "YobOk8sNTgip"
      },
      "source": [
        "In my first run, no data augmentation, 100 random samples of the Training Set, using 50% of that as the Validation Set, using a Batch Size of 50 and Epochs = 30, the resulting accuracy of the test-set is Test loss: 0.912209689617157\n",
        "Test accuracy: 0.6866999864578247"
      ]
    },
    {
      "cell_type": "code",
      "metadata": {
        "colab": {
          "base_uri": "https://localhost:8080/",
          "height": 462
        },
        "id": "3aRFTHeG1SkQ",
        "outputId": "2be95c88-284c-43c6-facd-131a2ae78fda"
      },
      "source": [
        "## I want to pick the largest value on the confusion matrix not on the diagonal\n",
        "confusing_part_matrix= np.array(confusion_matrix)-np.identity(confusion_matrix.shape[0])*np.diag(confusion_matrix)\n",
        "\n",
        "confusing_part_matrix = tf.convert_to_tensor(confusing_part_matrix)\n",
        "\n",
        "f, ax = plt.subplots(figsize=(9, 7))\n",
        "sn.heatmap(\n",
        "    confusing_part_matrix,\n",
        "    annot=True,\n",
        "    linewidths=.5\n",
        "    #,fmt=\"d\"\n",
        "    #,square=True\n",
        "    #,ax=ax\n",
        ")\n",
        "plt.show()\n",
        "\n",
        "\n",
        "## find the max value of those remaining numbers\n",
        "thisnumber=np.max(confusing_part_matrix)\n",
        "\n",
        "x_thisnumber=np.argmax(confusing_part_matrix,axis=0)\n",
        "y_thisnumber=np.argmax(confusing_part_matrix,axis=1)\n",
        "z_thisnumber=np.argmax(confusing_part_matrix)\n",
        "display(x_thisnumber,y_thisnumber)\n",
        "#print(\"The worst the algorithm did is between \" confus)\n",
        " "
      ],
      "execution_count": 28,
      "outputs": [
        {
          "output_type": "display_data",
          "data": {
            "image/png": "[encoded data removed]",
            "text/plain": [
              "<Figure size 648x504 with 2 Axes>"
            ]
          },
          "metadata": {
            "needs_background": "light"
          }
        },
        {
          "output_type": "display_data",
          "data": {
            "text/plain": [
              "array([6, 3, 6, 1, 6, 7, 0, 5, 6, 7])"
            ]
          },
          "metadata": {}
        },
        {
          "output_type": "display_data",
          "data": {
            "text/plain": [
              "array([6, 3, 4, 4, 2, 9, 2, 9, 6, 7])"
            ]
          },
          "metadata": {}
        }
      ]
    },
    {
      "cell_type": "code",
      "metadata": {
        "id": "WhozCsi1MjMD",
        "colab": {
          "base_uri": "https://localhost:8080/"
        },
        "outputId": "b593b638-d6be-44d8-ff29-8b729140feac"
      },
      "source": [
        "\n",
        "LABEL_NAMES = ['t_shirt', 'trouser', 'pullover', 'dress', 'coat', 'sandal', 'shirt', 'sneaker', 'bag', 'ankle_boots']\n",
        "\n",
        "delta = predictions - y_test\n",
        "\n",
        "wrong = tf.boolean_mask(predictions, delta)\n",
        "print(wrong)\n",
        "\n",
        "#  if i != 0\n",
        "#    display(\"Prediction \", i, \" is \" + LABEL_NAMES[predictions[i]], \"but it is \",  LABEL_NAMES[y_test[i] )\n"
      ],
      "execution_count": 29,
      "outputs": [
        {
          "output_type": "stream",
          "text": [
            "tf.Tensor([6 7 5 ... 0 0 2], shape=(2117,), dtype=int64)\n"
          ],
          "name": "stdout"
        }
      ]
    },
    {
      "cell_type": "code",
      "metadata": {
        "colab": {
          "base_uri": "https://localhost:8080/"
        },
        "id": "ZT4qB3nZ2WwB",
        "outputId": "546e3ae3-1215-4d81-ce75-85dd5e239cde"
      },
      "source": [
        "confusing_part_matrix[0]"
      ],
      "execution_count": 30,
      "outputs": [
        {
          "output_type": "execute_result",
          "data": {
            "text/plain": [
              "<tf.Tensor: shape=(10,), dtype=float64, numpy=array([  0.,   6.,  26.,  44.,  11.,   8., 139.,   0.,  23.,   0.])>"
            ]
          },
          "metadata": {},
          "execution_count": 30
        }
      ]
    },
    {
      "cell_type": "code",
      "metadata": {
        "id": "Uo0qd0Wy5jmT",
        "colab": {
          "base_uri": "https://localhost:8080/"
        },
        "outputId": "638aefd6-0825-4a98-ff00-61c1e4ed5fdb"
      },
      "source": [
        "z_thisnumber=np.argmax(confusing_part_matrix)\n",
        "z_thisnumber\n",
        "print(\"So the most confused classes were between: \" , np.math.floor(z_thisnumber/10), \" a\",  LABEL_NAMES[np.math.floor(z_thisnumber/10)] , \" and  \", z_thisnumber%10, \" a \",  \n",
        "LABEL_NAMES[z_thisnumber%10])\n",
        "\n"
      ],
      "execution_count": 31,
      "outputs": [
        {
          "output_type": "stream",
          "text": [
            "So the most confused classes were between:  6  a shirt  and   2  a  pullover\n"
          ],
          "name": "stdout"
        }
      ]
    },
    {
      "cell_type": "markdown",
      "metadata": {
        "id": "V3V0jrX_Mmxl"
      },
      "source": [
        ""
      ]
    },
    {
      "cell_type": "code",
      "metadata": {
        "id": "9K24O6nCMnPP",
        "colab": {
          "base_uri": "https://localhost:8080/",
          "height": 265
        },
        "outputId": "bdb76d5d-1dd3-40e5-9654-8adabf762d80"
      },
      "source": [
        "plt.imshow(x_test[0].reshape((28,28)), cmap=plt.cm.binary)\n",
        "plt.show()"
      ],
      "execution_count": 32,
      "outputs": [
        {
          "output_type": "display_data",
          "data": {
            "image/png": "[encoded data removed]",
            "text/plain": [
              "<Figure size 432x288 with 1 Axes>"
            ]
          },
          "metadata": {
            "needs_background": "light"
          }
        }
      ]
    }
  ]
}