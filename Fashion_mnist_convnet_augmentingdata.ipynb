{
  "nbformat": 4,
  "nbformat_minor": 0,
  "metadata": {
    "colab": {
      "name": "Fashion mnist_convnet",
      "provenance": [],
      "collapsed_sections": [],
      "machine_shape": "hm",
      "include_colab_link": true
    },
    "kernelspec": {
      "display_name": "Python 3",
      "language": "python",
      "name": "python3"
    },
    "language_info": {
      "codemirror_mode": {
        "name": "ipython",
        "version": 3
      },
      "file_extension": ".py",
      "mimetype": "text/x-python",
      "name": "python",
      "nbconvert_exporter": "python",
      "pygments_lexer": "ipython3",
      "version": "3.7.0"
    },
    "accelerator": "GPU"
  },
  "cells": [
    {
      "cell_type": "markdown",
      "metadata": {
        "id": "view-in-github",
        "colab_type": "text"
      },
      "source": [
        "<a href=\"https://colab.research.google.com/github/RachelRamirez/FashionMNIST_DataAugmentation/blob/main/Fashion_mnist_convnet_augmentingdata.ipynb\" target=\"_parent\"><img src=\"https://colab.research.google.com/assets/colab-badge.svg\" alt=\"Open In Colab\"/></a>"
      ]
    },
    {
      "cell_type": "markdown",
      "metadata": {
        "id": "3tLeuxPfOUwh"
      },
      "source": [
        "# \"Simple (Fashion) MNIST convnet\" Architecture with Extremely Limited Data used to Train CNN\n",
        "\n",
        "**Original Author with MNIST:** [fchollet](https://twitter.com/fchollet)<br>\n",
        "Date created: 2015/06/19<br>\n",
        "\n",
        "**Modified to Fashion MNIST** [rachelramirez](https://github.com/RachelRamirez/FashionMNIST_DataAugmentation) 2021/08/25\n",
        "\n",
        "**Description:** A simple convnet architecture for training on Fashion MNIST, is frozen and then data augmentation techniques are attempted as a Design of Experiment (DOE).\n",
        "\n",
        "Then data is limited to varying levels of sample sizes  [500, 1000]  to view the effect of data augmentation on increasing model accuracy.\n",
        "\n",
        "More features are added to original notebook for residual/error analysis such as confusion matrix and data augmentation."
      ]
    },
    {
      "cell_type": "code",
      "metadata": {
        "colab": {
          "base_uri": "https://localhost:8080/"
        },
        "id": "n3haQSkOOYVl",
        "outputId": "867f2e2e-2aa6-4b7c-d113-d49182f7a63f"
      },
      "source": [
        "gpu_info = !nvidia-smi\n",
        "gpu_info = '\\n'.join(gpu_info)\n",
        "if gpu_info.find('failed') >= 0:\n",
        "  print('Not connected to a GPU')\n",
        "else:\n",
        "  print(gpu_info)\n",
        "\n",
        "\n",
        "from psutil import virtual_memory\n",
        "ram_gb = virtual_memory().total / 1e9\n",
        "print('Your runtime has {:.1f} gigabytes of available RAM\\n'.format(ram_gb))\n",
        "\n",
        "if ram_gb < 20:\n",
        "  print('Not using a high-RAM runtime')\n",
        "else:\n",
        "  print('You are using a high-RAM runtime!')"
      ],
      "execution_count": 1,
      "outputs": [
        {
          "output_type": "stream",
          "text": [
            "Wed Sep  1 16:38:56 2021       \n",
            "+-----------------------------------------------------------------------------+\n",
            "| NVIDIA-SMI 470.57.02    Driver Version: 460.32.03    CUDA Version: 11.2     |\n",
            "|-------------------------------+----------------------+----------------------+\n",
            "| GPU  Name        Persistence-M| Bus-Id        Disp.A | Volatile Uncorr. ECC |\n",
            "| Fan  Temp  Perf  Pwr:Usage/Cap|         Memory-Usage | GPU-Util  Compute M. |\n",
            "|                               |                      |               MIG M. |\n",
            "|===============================+======================+======================|\n",
            "|   0  Tesla T4            Off  | 00000000:00:04.0 Off |                    0 |\n",
            "| N/A   43C    P8     9W /  70W |      0MiB / 15109MiB |      0%      Default |\n",
            "|                               |                      |                  N/A |\n",
            "+-------------------------------+----------------------+----------------------+\n",
            "                                                                               \n",
            "+-----------------------------------------------------------------------------+\n",
            "| Processes:                                                                  |\n",
            "|  GPU   GI   CI        PID   Type   Process name                  GPU Memory |\n",
            "|        ID   ID                                                   Usage      |\n",
            "|=============================================================================|\n",
            "|  No running processes found                                                 |\n",
            "+-----------------------------------------------------------------------------+\n",
            "Your runtime has 27.3 gigabytes of available RAM\n",
            "\n",
            "You are using a high-RAM runtime!\n"
          ],
          "name": "stdout"
        }
      ]
    },
    {
      "cell_type": "code",
      "metadata": {
        "id": "SGvYofsKOUwo",
        "colab": {
          "base_uri": "https://localhost:8080/"
        },
        "outputId": "516beec3-2c1b-4776-9698-24b7d4dbc63f"
      },
      "source": [
        "import numpy as np\n",
        "\n",
        "from tensorflow import keras\n",
        "from tensorflow.keras import layers\n",
        "from tensorflow.keras.models import Sequential\n",
        "from tensorflow.keras.preprocessing.image import ImageDataGenerator\n",
        "import tensorflow as tf\n",
        "import matplotlib.pyplot as plt\n",
        "import seaborn as sn\n",
        "from google.colab import files\n",
        "from keras.layers import GaussianNoise\n",
        "\n",
        "\n",
        "print(tf. __version__) \n"
      ],
      "execution_count": 1,
      "outputs": [
        {
          "output_type": "stream",
          "text": [
            "2.6.0\n"
          ],
          "name": "stdout"
        }
      ]
    },
    {
      "cell_type": "markdown",
      "metadata": {
        "id": "zpKcttwnrTnT"
      },
      "source": [
        "# Experiment"
      ]
    },
    {
      "cell_type": "markdown",
      "metadata": {
        "id": "JJfFyadErbBf"
      },
      "source": [
        "The first part of this experiment is looking at the space for *TrainingSize*, *ValidationSize*, *BatchSize*, and *EpochSize*.  These all likely effect one another (4-way interactions) so a DOE design is used to look at Response Surface Methods.\n",
        "\n",
        "A: BatchSize (10, 100)\n",
        "\n",
        "B: Epochs  (15, 50)\n",
        "\n",
        "C: Training Size (Count)  (100, 1000)\n",
        "\n",
        "D: Validation (as percentage of Training Size)  (20%, 50%) \n",
        "\n",
        "Replicates: 2\n",
        "Center Points: 1"
      ]
    },
    {
      "cell_type": "code",
      "metadata": {
        "id": "dqEfqqnXr9Ji"
      },
      "source": [
        "\n",
        " "
      ],
      "execution_count": 1,
      "outputs": []
    },
    {
      "cell_type": "markdown",
      "metadata": {
        "id": "R5UJ4XGxOUwp"
      },
      "source": [
        "## Prepare the data"
      ]
    },
    {
      "cell_type": "code",
      "metadata": {
        "id": "nW6G-5CNOUwq",
        "colab": {
          "base_uri": "https://localhost:8080/"
        },
        "outputId": "de6a4609-a284-4d7a-e499-e98d4b77d403"
      },
      "source": [
        "# Model / data parameters\n",
        "num_classes = 10\n",
        "input_shape = (28, 28, 1)\n",
        "\n",
        "# the data, split between train and test sets\n",
        "(x_train, y_train), (x_test, y_test) = keras.datasets.fashion_mnist.load_data()\n",
        "\n",
        "# Until the end of all analysis I don't really want to look at the real test set results\n",
        "# I'm overwriting them to make sure I don't accidentally use them\n",
        "\n",
        "x_test = []\n",
        "y_test = []\n",
        "\n",
        "\n",
        "\n",
        "\n",
        "# I decide to take a small dataset - 2000 samples of the 60000, and use that to \n",
        "# create a TRAIN Set of up to 1000 samples, a VALIDATION Set of up to 1000 samples, and a FAKE-TEST set of the remaining 58000\n",
        "# After Analyzing the best \"Augmentation Effect\" I wil apply it to the \"REAL\" Test DataSet to see if it improved.\n",
        "\n",
        "\n",
        "# Validation Set is 1000 \n",
        "x_val = x_train[1000:2000]\n",
        "y_val = y_train[1000:2000]\n",
        "\n",
        "#My FAKE Test Set is 58000\n",
        "x_test = x_train[2000:60000]\n",
        "y_test = y_train[2000:60000]\n",
        "\n",
        "\n",
        "# Finally I change train dataset to first 1000\n",
        "x_train = x_train[0:1000]\n",
        "y_train = y_train[0:1000]\n",
        "\n",
        "#My holdout Test Set after all the DOE is the original TEST set from dataset\n",
        "\n",
        "\n",
        "print(\"Fashion MNIST has training size up to: \", y_train.shape, \", val set of , \", y_val.shape, \" and test set of \", y_test.shape)\n",
        "\n",
        "\n",
        "# Scale images to the [0, 1] range\n",
        "#x_train = x_train.astype(\"float32\") / 255\n",
        "#x_test = x_test.astype(\"float32\") / 255    # put into preprocessing model step\n",
        "# Make sure images have shape (28, 28, 1)\n",
        "x_train = np.expand_dims(x_train, -1)\n",
        "x_test = np.expand_dims(x_test, -1)\n",
        "x_val = np.expand_dims(x_val, -1)\n",
        "\n",
        "print(\"x_train shape:\", x_train.shape)\n",
        "print(x_train.shape[0], \"train samples\")\n",
        "print(x_val.shape[0], \"validation samples\")\n",
        "print(x_test.shape[0], \"fake test samples saved from test-set\")\n",
        "\n",
        "\n",
        "# convert class vectors to binary class matrices\n",
        "y_train = keras.utils.to_categorical(y_train, num_classes)\n",
        "y_val = keras.utils.to_categorical(y_val, num_classes)\n",
        "y_test = keras.utils.to_categorical(y_test, num_classes)\n",
        "\n",
        "# Try to put in tensor flow shape\n",
        "x_val = tf.stack(x_val)\n",
        "y_val = tf.stack(y_val)\n",
        "\n",
        "\n",
        "# Define Manual Validation Set\n",
        "valid_set = (x_val, y_val)\n"
      ],
      "execution_count": 2,
      "outputs": [
        {
          "output_type": "stream",
          "text": [
            "Fashion MNIST has training size up to:  (1000,) , val set of ,  (1000,)  and test set of  (58000,)\n",
            "x_train shape: (1000, 28, 28, 1)\n",
            "1000 train samples\n",
            "1000 validation samples\n",
            "58000 fake test samples saved from test-set\n"
          ],
          "name": "stdout"
        }
      ]
    },
    {
      "cell_type": "code",
      "metadata": {
        "id": "tmLbFwrtYy7h"
      },
      "source": [
        ""
      ],
      "execution_count": 2,
      "outputs": []
    },
    {
      "cell_type": "markdown",
      "metadata": {
        "id": "j3J-NWLSOUwr"
      },
      "source": [
        "## DOE Loops with Model Building "
      ]
    },
    {
      "cell_type": "code",
      "metadata": {
        "id": "ftmEQF7fjEBg"
      },
      "source": [
        "# ## Scratch try first\n",
        "\n",
        "# factors = \"FlipHorizontal\", \"Rotate\", \"Contrast\", \"Noise\"\n",
        "\n",
        "# # for i in string:\n",
        "# #   print(i)\n",
        "\n",
        "# from itertools import compress, product\n",
        "\n",
        "# def combinations(items):\n",
        "#     return ( set(compress(items,mask)) for mask in product(*[[0,1]]*len(items)) )  \n",
        "\n",
        "\n",
        "# x = list(combinations(factors))\n",
        "# x[0]\n",
        "# x[1]\n",
        "# len(x)\n",
        "\n",
        "# # DOE_Factors = ['Noise'] ['Contrast'] ['Contrast', 'Noise'] ['Rotate'] ['Noise', 'Rotate'] ['Contrast', 'Rotate'] ['Contrast', 'Noise', 'Rotate'] ['FlipHorizontal']  ['Noise', 'FlipHorizontal']\n",
        "# # ['Contrast', 'FlipHorizontal'] ['Contrast', 'Noise', 'FlipHorizontal'] ['FlipHorizontal', 'Rotate'] ['Noise', 'FlipHorizontal', 'Rotate'] ['Contrast', 'FlipHorizontal', 'Rotate'] ['Contrast', 'Noise', 'FlipHorizontal', 'Rotate']\n",
        "\n",
        "# # for i in DOE_Factors:\n",
        "# #   print(i)\n",
        "\n",
        "\n",
        "# # filename = str(i) + \".csv\"\n",
        "\n",
        "# print(filename)"
      ],
      "execution_count": 3,
      "outputs": []
    },
    {
      "cell_type": "code",
      "metadata": {
        "id": "7MEHlGkLOUwt",
        "colab": {
          "base_uri": "https://localhost:8080/"
        },
        "outputId": "37b52c0f-65c7-4c75-f964-a446b4a21a0b"
      },
      "source": [
        "dataAugmentation = True\n",
        "randseed = 42 \n",
        "\n",
        "\n",
        "x = layers.experimental.preprocessing.RandomFlip(\"horizontal\", seed = randseed, name = \"FlipHorizontal\")\n",
        "y = layers.experimental.preprocessing.RandomRotation(0.5, seed = randseed, name = \"Rotate\")\n",
        "z = layers.experimental.preprocessing.RandomContrast(factor=0.5, seed = randseed, name = \"Contrast\") \n",
        "w = layers.GaussianNoise(0.1, name = \"GaussianNoise\")\n",
        "\n",
        "\n",
        "\n",
        "data_augmentation = tf.keras.Sequential([\n",
        "  # layers.experimental.preprocessing.RandomFlip(\"horizontal\", seed = randseed),  # I assume vertical would be very bad\n",
        "  # layers.experimental.preprocessing.RandomRotation(0.01, seed = randseed),  # I visualized what 5 degrees looked like and it was rough\n",
        "  # layers.experimental.preprocessing.RandomContrast(factor=0.1, seed = randseed), # I don't really understand this yet\n",
        "  # layers.GaussianNoise(0.01)\n",
        "  x,\n",
        "  y,\n",
        "  z,\n",
        "  w, \n",
        "])\n",
        "\n",
        "\n",
        "# datagen  = ImageDataGenerator(\n",
        "#     featurewise_center=True,\n",
        "#     featurewise_std_normalization=True,\n",
        "#     rotation_range=20,\n",
        "#     width_shift_range=0.2,\n",
        "#     height_shift_range=0.2,\n",
        "#     horizontal_flip=True,\n",
        "#     validation_split=0.0)\n",
        "\n",
        "# datagen.fit(x_train)\n",
        "\n",
        "\n",
        "if dataAugmentation == False:\n",
        "  model = keras.Sequential(\n",
        "      [\n",
        "          keras.Input(shape=input_shape),\n",
        "          layers.experimental.preprocessing.Rescaling(1./255, input_shape=(input_shape)),\n",
        "          layers.Conv2D(32, kernel_size=(3, 3), activation=\"relu\"),\n",
        "          layers.MaxPooling2D(pool_size=(2, 2)),\n",
        "          layers.Conv2D(64, kernel_size=(3, 3), activation=\"relu\"),\n",
        "          layers.MaxPooling2D(pool_size=(2, 2)),\n",
        "          layers.Flatten(),\n",
        "          layers.Dropout(0.5),\n",
        "          layers.Dense(num_classes, activation=\"softmax\"),\n",
        "      ]\n",
        "  )\n",
        "else:\n",
        "    model = keras.Sequential(\n",
        "      [\n",
        "          keras.Input(shape=input_shape),\n",
        "          layers.experimental.preprocessing.Rescaling(1./255, input_shape=(input_shape)),\n",
        "          data_augmentation,   \n",
        "          layers.Conv2D(32, kernel_size=(3, 3), activation=\"relu\"),\n",
        "          layers.MaxPooling2D(pool_size=(2, 2)),\n",
        "          layers.Conv2D(64, kernel_size=(3, 3), activation=\"relu\"),\n",
        "          layers.MaxPooling2D(pool_size=(2, 2)),\n",
        "          layers.Flatten(),\n",
        "          layers.Dropout(0.5),\n",
        "          layers.Dense(num_classes, activation=\"softmax\"),\n",
        "      ]\n",
        "  )\n",
        "model.summary()"
      ],
      "execution_count": 4,
      "outputs": [
        {
          "output_type": "stream",
          "text": [
            "Model: \"sequential_1\"\n",
            "_________________________________________________________________\n",
            "Layer (type)                 Output Shape              Param #   \n",
            "=================================================================\n",
            "rescaling (Rescaling)        (None, 28, 28, 1)         0         \n",
            "_________________________________________________________________\n",
            "sequential (Sequential)      (None, 28, 28, 1)         0         \n",
            "_________________________________________________________________\n",
            "conv2d (Conv2D)              (None, 26, 26, 32)        320       \n",
            "_________________________________________________________________\n",
            "max_pooling2d (MaxPooling2D) (None, 13, 13, 32)        0         \n",
            "_________________________________________________________________\n",
            "conv2d_1 (Conv2D)            (None, 11, 11, 64)        18496     \n",
            "_________________________________________________________________\n",
            "max_pooling2d_1 (MaxPooling2 (None, 5, 5, 64)          0         \n",
            "_________________________________________________________________\n",
            "flatten (Flatten)            (None, 1600)              0         \n",
            "_________________________________________________________________\n",
            "dropout (Dropout)            (None, 1600)              0         \n",
            "_________________________________________________________________\n",
            "dense (Dense)                (None, 10)                16010     \n",
            "=================================================================\n",
            "Total params: 34,826\n",
            "Trainable params: 34,826\n",
            "Non-trainable params: 0\n",
            "_________________________________________________________________\n"
          ],
          "name": "stdout"
        }
      ]
    },
    {
      "cell_type": "markdown",
      "metadata": {
        "id": "9mLvi5vnOUww"
      },
      "source": [
        "# Insert DOE Variables -> Train Model"
      ]
    },
    {
      "cell_type": "code",
      "metadata": {
        "id": "rJbHvwogyjG3"
      },
      "source": [
        "# screen = False\n",
        "\n",
        "# ## Experiment 1 'Global' Variables\n",
        "# if screen == True: \n",
        "#   var_BatchSize =  50, 50 #  # Just do 50\n",
        "#   var_Epochs =     70, 70     # Just do 70\n",
        "#   var_TrainSize = 100, 505, 1000\n",
        "#   #var_ValPercent = 0.2, 0.3\n",
        "# else:\n",
        "#   var_BatchSize =  50, 50   #  # Just do 50\n",
        "#   var_Epochs =     70, 70    # Just do 70\n",
        "#   var_TrainSize = 100, 100\n",
        "#   #var_ValPercent = 0.2, 0.2\n",
        "\n",
        "\n"
      ],
      "execution_count": 5,
      "outputs": []
    },
    {
      "cell_type": "markdown",
      "metadata": {
        "id": "7UbYwOVJv7GQ"
      },
      "source": [
        "## Train the model"
      ]
    },
    {
      "cell_type": "code",
      "metadata": {
        "colab": {
          "base_uri": "https://localhost:8080/"
        },
        "id": "_gfBEyf9v7GS",
        "outputId": "12d7ca5f-6465-4d09-a094-382c0d37c5e6"
      },
      "source": [
        "counter = 1\n",
        "scorelist = []\n",
        "\n",
        "\n",
        "model.compile(loss=\"categorical_crossentropy\", optimizer=\"adam\", metrics=[\"accuracy\"])\n",
        "## Save Weight is to help Reset the model before Training, very important, otherwise you get better results every run!\n",
        "model.save_weights('model_clear.h5') \n",
        "\n",
        "\n",
        "\n",
        "for t in var_TrainSize:\n",
        "  new_x_train = x_train[0:t]  \n",
        "  new_y_train = y_train[0:t]\n",
        "\n",
        "\n",
        "  for b in var_BatchSize:\n",
        "    for e in var_Epochs:\n",
        "      epochs = e\n",
        "\n",
        "\n",
        "      model.compile(loss=\"categorical_crossentropy\", optimizer=\"adam\", metrics=[\"accuracy\"])\n",
        "      model.load_weights('model_clear.h5')\n",
        "\n",
        "      # Verbose  = 0 after I verified everything was working to improve overall speed\n",
        "      %%timeit\n",
        "      model.fit(new_x_train, new_y_train, batch_size=b, epochs=e,  validation_data=valid_set, verbose=0)\n",
        "\n",
        "      score = model.evaluate(x_test, y_test, verbose=0)\n",
        "      # print(\"Test loss:\", score[0])\n",
        "      # print(\"Test accuracy:\", score[1])\n",
        "      scorelist += [ [counter, b,  e,    t,    score[0], score[1]] ]\n",
        "      print(\"Run: \", counter, \"\", b, e, t,  \"Accuracy: \", score[1], \" Loss: \", score[0])\n",
        "      counter=counter+1\n",
        "\n",
        "#save scorelist as a csv file\n",
        "if dataAugmentation:\n",
        "  filename = 'data_augmented.csv'\n",
        "else:\n",
        "    filename = \"data.csv\"\n",
        "\n",
        "np.savetxt(filename, scorelist, delimiter=',')\n"
      ],
      "execution_count": 6,
      "outputs": [
        {
          "output_type": "stream",
          "text": [
            "This is run 1 :  10 50 100 had accuracy:  0.4966724216938019  test loss:  1.4587044715881348\n",
            "This is run 2 :  10 70 100 had accuracy:  0.4860517382621765  test loss:  1.4853713512420654\n",
            "This is run 3 :  25 50 100 had accuracy:  0.5030516982078552  test loss:  1.544907569885254\n",
            "This is run 4 :  25 70 100 had accuracy:  0.48815518617630005  test loss:  1.4864652156829834\n",
            "This is run 5 :  50 50 100 had accuracy:  0.434827595949173  test loss:  1.6681740283966064\n",
            "This is run 6 :  50 70 100 had accuracy:  0.5062068700790405  test loss:  1.5149917602539062\n",
            "This is run 7 :  100 50 100 had accuracy:  0.4490344822406769  test loss:  1.720348596572876\n",
            "This is run 8 :  100 70 100 had accuracy:  0.45622414350509644  test loss:  1.6444802284240723\n",
            "This is run 9 :  10 50 505 had accuracy:  0.5769482851028442  test loss:  1.2317121028900146\n",
            "This is run 10 :  10 70 505 had accuracy:  0.60712069272995  test loss:  1.140778660774231\n",
            "This is run 11 :  25 50 505 had accuracy:  0.5579482913017273  test loss:  1.2644649744033813\n",
            "This is run 12 :  25 70 505 had accuracy:  0.5792758464813232  test loss:  1.1945905685424805\n",
            "This is run 13 :  50 50 505 had accuracy:  0.564275860786438  test loss:  1.3086962699890137\n",
            "This is run 14 :  50 70 505 had accuracy:  0.5582758784294128  test loss:  1.2575364112854004\n",
            "This is run 15 :  100 50 505 had accuracy:  0.5135862231254578  test loss:  1.4762563705444336\n",
            "This is run 16 :  100 70 505 had accuracy:  0.5467241406440735  test loss:  1.3426817655563354\n",
            "This is run 17 :  10 50 1000 had accuracy:  0.6263620853424072  test loss:  1.060027837753296\n",
            "This is run 18 :  10 70 1000 had accuracy:  0.6361896395683289  test loss:  1.0700336694717407\n",
            "This is run 19 :  25 50 1000 had accuracy:  0.5942931175231934  test loss:  1.1653310060501099\n",
            "This is run 20 :  25 70 1000 had accuracy:  0.6474137902259827  test loss:  1.0140807628631592\n",
            "This is run 21 :  50 50 1000 had accuracy:  0.6128275990486145  test loss:  1.1449565887451172\n",
            "This is run 22 :  50 70 1000 had accuracy:  0.6212758421897888  test loss:  1.0887259244918823\n",
            "This is run 23 :  100 50 1000 had accuracy:  0.5719137787818909  test loss:  1.2425321340560913\n",
            "This is run 24 :  100 70 1000 had accuracy:  0.591637909412384  test loss:  1.1683919429779053\n"
          ],
          "name": "stdout"
        }
      ]
    },
    {
      "cell_type": "code",
      "metadata": {
        "id": "wwGJ493w15x9"
      },
      "source": [
        "#save file to my personal computer so I don't lose it to google colab timeout\n",
        "\n",
        "#why isn't this working?! :-( \n",
        "#files.download('data.csv') "
      ],
      "execution_count": 7,
      "outputs": []
    },
    {
      "cell_type": "code",
      "metadata": {
        "id": "44kD7Vn6OUwy"
      },
      "source": [
        "# batch_size = 50\n",
        "# epochs = 30\n",
        "\n",
        "# model.compile(loss=\"categorical_crossentropy\", optimizer=\"adam\", metrics=[\"accuracy\"])\n",
        "\n",
        "# model.fit(x_train, y_train, batch_size=batch_size, epochs=epochs, validation_split=0.5)"
      ],
      "execution_count": 8,
      "outputs": []
    },
    {
      "cell_type": "markdown",
      "metadata": {
        "id": "f_OXslKCOUw0"
      },
      "source": [
        "## Evaluate the trained model"
      ]
    },
    {
      "cell_type": "code",
      "metadata": {
        "id": "BD9T7nz9OUw1"
      },
      "source": [
        "          # score = model.evaluate(x_test, y_test, verbose=1)\n",
        "          # print(\"Test loss:\", score[0])\n",
        "          # print(\"Test accuracy:\", score[1])"
      ],
      "execution_count": 9,
      "outputs": []
    },
    {
      "cell_type": "code",
      "metadata": {
        "colab": {
          "base_uri": "https://localhost:8080/",
          "height": 428
        },
        "id": "DyqgW4Qyn3y5",
        "outputId": "27c420a3-e92c-4f23-89dd-c428b8087385"
      },
      "source": [
        "predictions = model.predict(x_test)\n",
        "predictions = np.argmax(predictions, axis=1)\n",
        " \n",
        "y_test = np.argmax(y_test, axis=1) \n",
        "\n",
        "confusion_matrix = tf.math.confusion_matrix(y_test, predictions)  #First Variable is on VERTICAL, second Variable is on X HORIZONTAL\n",
        "#confusion_matrix = tf.math.confusion_matrix(predictions, tf.Variable(np.ones(predictions.shape)))\n",
        "\n",
        "f, ax = plt.subplots(figsize=(9, 7))\n",
        "sn.heatmap(\n",
        "    confusion_matrix,\n",
        "    annot=True,\n",
        "    linewidths=.5,\n",
        "    fmt=\"d\",\n",
        "    square=True,\n",
        "    ax=ax\n",
        ")\n",
        "plt.show()\n"
      ],
      "execution_count": 10,
      "outputs": [
        {
          "output_type": "display_data",
          "data": {
            "image/png": "[encoded data removed]",
            "text/plain": [
              "<Figure size 648x504 with 2 Axes>"
            ]
          },
          "metadata": {
            "needs_background": "light"
          }
        }
      ]
    },
    {
      "cell_type": "markdown",
      "metadata": {
        "id": "YobOk8sNTgip"
      },
      "source": [
        "In my first run, no data augmentation, 100 random samples of the Training Set, using 50% of that as the Validation Set, using a Batch Size of 50 and Epochs = 30, the resulting accuracy of the test-set is Test loss: 0.912209689617157\n",
        "Test accuracy: 0.6866999864578247"
      ]
    },
    {
      "cell_type": "code",
      "metadata": {
        "colab": {
          "base_uri": "https://localhost:8080/",
          "height": 480
        },
        "id": "3aRFTHeG1SkQ",
        "outputId": "9ad28c53-1e3f-4504-86ea-d64920fa3e22"
      },
      "source": [
        "## I want to pick the largest value on the confusion matrix not on the diagonal\n",
        "confusing_part_matrix= np.array(confusion_matrix)-np.identity(confusion_matrix.shape[0])*np.diag(confusion_matrix)\n",
        "\n",
        "confusing_part_matrix = tf.convert_to_tensor(confusing_part_matrix)\n",
        "\n",
        "f, ax = plt.subplots(figsize=(9, 7))\n",
        "sn.heatmap(\n",
        "    confusing_part_matrix,\n",
        "    annot=True,\n",
        "    linewidths=.5\n",
        "    ,fmt='.0f'\n",
        "    #,fmt=\"d\"\n",
        "    #,square=True\n",
        "    #,ax=ax\n",
        ")\n",
        "plt.show()\n",
        "\n",
        "\n",
        "## find the max value of those remaining numbers\n",
        "thisnumber=np.max(confusing_part_matrix)\n",
        "\n",
        "x_thisnumber=np.argmax(confusing_part_matrix,axis=0)\n",
        "y_thisnumber=np.argmax(confusing_part_matrix,axis=1)\n",
        "z_thisnumber=np.argmax(confusing_part_matrix)\n",
        "display(x_thisnumber,y_thisnumber)\n",
        "#print(\"The worst the algorithm did is between \" confus)\n",
        "\n",
        "display(sum(sum(confusing_part_matrix)))\n",
        " "
      ],
      "execution_count": 11,
      "outputs": [
        {
          "output_type": "display_data",
          "data": {
            "image/png": "[encoded data removed]",
            "text/plain": [
              "<Figure size 648x504 with 2 Axes>"
            ]
          },
          "metadata": {
            "needs_background": "light"
          }
        },
        {
          "output_type": "display_data",
          "data": {
            "text/plain": [
              "array([6, 5, 6, 8, 2, 7, 2, 3, 4, 8])"
            ]
          },
          "metadata": {}
        },
        {
          "output_type": "display_data",
          "data": {
            "text/plain": [
              "array([3, 7, 4, 7, 2, 1, 2, 9, 4, 3])"
            ]
          },
          "metadata": {}
        },
        {
          "output_type": "display_data",
          "data": {
            "text/plain": [
              "<tf.Tensor: shape=(), dtype=float64, numpy=23685.0>"
            ]
          },
          "metadata": {}
        }
      ]
    },
    {
      "cell_type": "code",
      "metadata": {
        "id": "WhozCsi1MjMD"
      },
      "source": [
        "delta = predictions - y_test\n",
        "\n",
        "wrong = tf.boolean_mask(x_test, delta)\n",
        "\n",
        "#  if i != 0\n",
        "#    display(\"Prediction \", i, \" is \" + LABEL_NAMES[predictions[i]], \"but it is \",  LABEL_NAMES[y_test[i] )\n"
      ],
      "execution_count": 12,
      "outputs": []
    },
    {
      "cell_type": "code",
      "metadata": {
        "colab": {
          "base_uri": "https://localhost:8080/"
        },
        "id": "ZT4qB3nZ2WwB",
        "outputId": "a319c201-9c50-4eb9-dbb3-a23875545a74"
      },
      "source": [
        "confusing_part_matrix[0]"
      ],
      "execution_count": 13,
      "outputs": [
        {
          "output_type": "execute_result",
          "data": {
            "text/plain": [
              "<tf.Tensor: shape=(10,), dtype=float64, numpy=array([  0., 261., 218., 379., 162., 208., 335.,  90., 153.,  50.])>"
            ]
          },
          "metadata": {},
          "execution_count": 13
        }
      ]
    },
    {
      "cell_type": "code",
      "metadata": {
        "id": "Uo0qd0Wy5jmT",
        "colab": {
          "base_uri": "https://localhost:8080/"
        },
        "outputId": "3f812a6d-fbe8-45ac-c81f-973b8eb4c864"
      },
      "source": [
        "LABEL_NAMES = ['t_shirt', 'trouser', 'pullover', 'dress', 'coat', 'sandal', 'shirt', 'sneaker', 'bag', 'ankle_boots']\n",
        "z_thisnumber=np.argmax(confusing_part_matrix)\n",
        "z_thisnumber\n",
        "print(\"The algorithm misrecognizes a lot of class \" ,  LABEL_NAMES[np.math.floor(z_thisnumber/10)] , \" as class \",  LABEL_NAMES[z_thisnumber%10])\n",
        "\n"
      ],
      "execution_count": 14,
      "outputs": [
        {
          "output_type": "stream",
          "text": [
            "The algorithm misrecognizes a lot of class  shirt  as class  pullover\n"
          ],
          "name": "stdout"
        }
      ]
    },
    {
      "cell_type": "markdown",
      "metadata": {
        "id": "V3V0jrX_Mmxl"
      },
      "source": [
        ""
      ]
    },
    {
      "cell_type": "code",
      "metadata": {
        "id": "9K24O6nCMnPP",
        "colab": {
          "base_uri": "https://localhost:8080/",
          "height": 265
        },
        "outputId": "790202fc-695c-41e7-aa8a-e13231d8bc91"
      },
      "source": [
        "plt.imshow(x_test[0].reshape((28,28)), cmap=plt.cm.binary)\n",
        "plt.show()"
      ],
      "execution_count": 15,
      "outputs": [
        {
          "output_type": "display_data",
          "data": {
            "image/png": "[encoded data removed]",
            "text/plain": [
              "<Figure size 432x288 with 1 Axes>"
            ]
          },
          "metadata": {
            "needs_background": "light"
          }
        }
      ]
    },
    {
      "cell_type": "code",
      "metadata": {
        "id": "43qaLtBn1JJX"
      },
      "source": [
        "gpu_info = !nvidia-smi\n",
        "gpu_info = '\\n'.join(gpu_info)\n",
        "if gpu_info.find('failed') >= 0:\n",
        "  print('Not connected to a GPU')\n",
        "else:\n",
        "  print(gpu_info)\n",
        "\n",
        "\n",
        "from psutil import virtual_memory\n",
        "ram_gb = virtual_memory().total / 1e9\n",
        "print('Your runtime has {:.1f} gigabytes of available RAM\\n'.format(ram_gb))\n",
        "\n",
        "if ram_gb < 20:\n",
        "  print('Not using a high-RAM runtime')\n",
        "else:\n",
        "  print('You are using a high-RAM runtime!')"
      ],
      "execution_count": 15,
      "outputs": []
    }
  ]
}